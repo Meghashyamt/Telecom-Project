{
  "nbformat": 4,
  "nbformat_minor": 0,
  "metadata": {
    "colab": {
      "name": "Telecom AllAlgorithms.ipynb",
      "version": "0.3.2",
      "provenance": [],
      "collapsed_sections": [],
      "include_colab_link": true
    },
    "kernelspec": {
      "name": "python3",
      "display_name": "Python 3"
    }
  },
  "cells": [
    {
      "cell_type": "markdown",
      "metadata": {
        "id": "view-in-github",
        "colab_type": "text"
      },
      "source": [
        "<a href=\"https://colab.research.google.com/github/Meghashyamt/Telecom-Project/blob/master/Telecom_AllAlgorithms.ipynb\" target=\"_parent\"><img src=\"https://colab.research.google.com/assets/colab-badge.svg\" alt=\"Open In Colab\"/></a>"
      ]
    },
    {
      "cell_type": "code",
      "metadata": {
        "id": "Fc5LUjZCsNTp",
        "colab_type": "code",
        "colab": {
          "base_uri": "https://localhost:8080/",
          "height": 34
        },
        "outputId": "c1978c08-2c98-487b-fed7-51e48a490e63"
      },
      "source": [
        "#Cloning Project From M Github\n",
        "!git clone https://github.com/Meghashyamt/Telecom-Project"
      ],
      "execution_count": 146,
      "outputs": [
        {
          "output_type": "stream",
          "text": [
            "fatal: destination path 'Telecom-Project' already exists and is not an empty directory.\n"
          ],
          "name": "stdout"
        }
      ]
    },
    {
      "cell_type": "code",
      "metadata": {
        "id": "AljnHn7VsqHo",
        "colab_type": "code",
        "colab": {}
      },
      "source": [
        "#import libraries\n",
        "import numpy as np\n",
        "import pandas as pd\n",
        "\n",
        "import matplotlib.pyplot as plt\n",
        "import seaborn as sb\n",
        "\n",
        "from sklearn.model_selection import train_test_split\n",
        "from sklearn.linear_model import LogisticRegression\n",
        "from sklearn.tree import DecisionTreeClassifier\n",
        "from sklearn.ensemble import RandomForestClassifier\n",
        "from sklearn.svm import SVC\n",
        "from xgboost import XGBClassifier\n",
        "\n",
        "from sklearn.metrics import accuracy_score, confusion_matrix, classification_report\n",
        "from sklearn.preprocessing import scale, LabelEncoder, StandardScaler\n",
        "\n",
        "#ANN Keras Import\n",
        "import keras\n",
        "import keras\n",
        "from keras.models import Sequential\n",
        "from keras.layers import Dense, Dropout"
      ],
      "execution_count": 0,
      "outputs": []
    },
    {
      "cell_type": "code",
      "metadata": {
        "id": "WEw5a4EUsZ3U",
        "colab_type": "code",
        "colab": {
          "base_uri": "https://localhost:8080/",
          "height": 182
        },
        "outputId": "274b9fa7-985c-4926-98f5-73bd25aaa0de"
      },
      "source": [
        "#Import Data\n",
        "data = pd.read_csv(\"Telecom-Project/telecom_churn_data.csv\")\n",
        "data.head(2)"
      ],
      "execution_count": 148,
      "outputs": [
        {
          "output_type": "execute_result",
          "data": {
            "text/html": [
              "<div>\n",
              "<style scoped>\n",
              "    .dataframe tbody tr th:only-of-type {\n",
              "        vertical-align: middle;\n",
              "    }\n",
              "\n",
              "    .dataframe tbody tr th {\n",
              "        vertical-align: top;\n",
              "    }\n",
              "\n",
              "    .dataframe thead th {\n",
              "        text-align: right;\n",
              "    }\n",
              "</style>\n",
              "<table border=\"1\" class=\"dataframe\">\n",
              "  <thead>\n",
              "    <tr style=\"text-align: right;\">\n",
              "      <th></th>\n",
              "      <th>State</th>\n",
              "      <th>Account Length</th>\n",
              "      <th>Area code</th>\n",
              "      <th>Phone</th>\n",
              "      <th>International Plan</th>\n",
              "      <th>Vmail plan</th>\n",
              "      <th>Vmail Message</th>\n",
              "      <th>Day mins</th>\n",
              "      <th>Day calls</th>\n",
              "      <th>Day charge</th>\n",
              "      <th>Eve mins</th>\n",
              "      <th>Eve calls</th>\n",
              "      <th>Eve charge</th>\n",
              "      <th>Night mins</th>\n",
              "      <th>Night calls</th>\n",
              "      <th>Night charge</th>\n",
              "      <th>International mins</th>\n",
              "      <th>International calls</th>\n",
              "      <th>International charge</th>\n",
              "      <th>Custserve calls</th>\n",
              "      <th>Churn</th>\n",
              "    </tr>\n",
              "  </thead>\n",
              "  <tbody>\n",
              "    <tr>\n",
              "      <th>0</th>\n",
              "      <td>KS</td>\n",
              "      <td>128</td>\n",
              "      <td>415</td>\n",
              "      <td>382-4657</td>\n",
              "      <td>no</td>\n",
              "      <td>yes</td>\n",
              "      <td>25</td>\n",
              "      <td>265.1</td>\n",
              "      <td>110</td>\n",
              "      <td>45.07</td>\n",
              "      <td>197.4</td>\n",
              "      <td>99</td>\n",
              "      <td>16.78</td>\n",
              "      <td>244.7</td>\n",
              "      <td>91</td>\n",
              "      <td>11.01</td>\n",
              "      <td>10.0</td>\n",
              "      <td>3</td>\n",
              "      <td>2.7</td>\n",
              "      <td>1</td>\n",
              "      <td>0</td>\n",
              "    </tr>\n",
              "    <tr>\n",
              "      <th>1</th>\n",
              "      <td>OH</td>\n",
              "      <td>107</td>\n",
              "      <td>415</td>\n",
              "      <td>371-7191</td>\n",
              "      <td>no</td>\n",
              "      <td>yes</td>\n",
              "      <td>26</td>\n",
              "      <td>161.6</td>\n",
              "      <td>123</td>\n",
              "      <td>27.47</td>\n",
              "      <td>195.5</td>\n",
              "      <td>103</td>\n",
              "      <td>16.62</td>\n",
              "      <td>254.4</td>\n",
              "      <td>103</td>\n",
              "      <td>11.45</td>\n",
              "      <td>13.7</td>\n",
              "      <td>3</td>\n",
              "      <td>3.7</td>\n",
              "      <td>1</td>\n",
              "      <td>0</td>\n",
              "    </tr>\n",
              "  </tbody>\n",
              "</table>\n",
              "</div>"
            ],
            "text/plain": [
              "  State  Account Length  ...  Custserve calls  Churn\n",
              "0    KS             128  ...                 1     0\n",
              "1    OH             107  ...                 1     0\n",
              "\n",
              "[2 rows x 21 columns]"
            ]
          },
          "metadata": {
            "tags": []
          },
          "execution_count": 148
        }
      ]
    },
    {
      "cell_type": "code",
      "metadata": {
        "id": "avJud7E_syY0",
        "colab_type": "code",
        "colab": {}
      },
      "source": [
        "#Drop Phone Column\n",
        "data.drop(\"Phone\", axis=1, inplace=True)"
      ],
      "execution_count": 0,
      "outputs": []
    },
    {
      "cell_type": "code",
      "metadata": {
        "id": "oTmvxpOpsuR0",
        "colab_type": "code",
        "colab": {
          "base_uri": "https://localhost:8080/",
          "height": 442
        },
        "outputId": "77f4d4ff-9a3b-4bc2-b525-d3ee078c3dff"
      },
      "source": [
        "#Information\n",
        "data.info()"
      ],
      "execution_count": 150,
      "outputs": [
        {
          "output_type": "stream",
          "text": [
            "<class 'pandas.core.frame.DataFrame'>\n",
            "RangeIndex: 4617 entries, 0 to 4616\n",
            "Data columns (total 20 columns):\n",
            "State                   4617 non-null object\n",
            "Account Length          4617 non-null int64\n",
            "Area code               4617 non-null int64\n",
            "International Plan      4617 non-null object\n",
            "Vmail plan              4617 non-null object\n",
            "Vmail Message           4617 non-null int64\n",
            "Day mins                4617 non-null float64\n",
            "Day calls               4617 non-null int64\n",
            "Day charge              4617 non-null float64\n",
            "Eve mins                4617 non-null float64\n",
            "Eve calls               4617 non-null int64\n",
            "Eve charge              4617 non-null float64\n",
            "Night mins              4617 non-null float64\n",
            "Night calls             4617 non-null int64\n",
            "Night charge            4617 non-null float64\n",
            "International mins      4617 non-null float64\n",
            "International calls     4617 non-null int64\n",
            "International charge    4617 non-null float64\n",
            "Custserve calls         4617 non-null int64\n",
            "Churn                   4617 non-null int64\n",
            "dtypes: float64(8), int64(9), object(3)\n",
            "memory usage: 721.5+ KB\n"
          ],
          "name": "stdout"
        }
      ]
    },
    {
      "cell_type": "code",
      "metadata": {
        "id": "34CW_28ZujTw",
        "colab_type": "code",
        "colab": {}
      },
      "source": [
        "#Adding new Column\n",
        "data['ChurnFlag']=(data['Churn']==True).astype(int)"
      ],
      "execution_count": 0,
      "outputs": []
    },
    {
      "cell_type": "code",
      "metadata": {
        "id": "M_70MgqRsoGB",
        "colab_type": "code",
        "colab": {}
      },
      "source": [
        "#Slicing the data\n",
        "X= data.iloc[:,1:19]\n",
        "y= data.iloc[:,20]"
      ],
      "execution_count": 0,
      "outputs": []
    },
    {
      "cell_type": "code",
      "metadata": {
        "id": "4Xhv1bS6u52n",
        "colab_type": "code",
        "colab": {}
      },
      "source": [
        "X=pd.get_dummies(X,drop_first=True)"
      ],
      "execution_count": 0,
      "outputs": []
    },
    {
      "cell_type": "code",
      "metadata": {
        "id": "Qlmu3CwSu_1m",
        "colab_type": "code",
        "colab": {
          "base_uri": "https://localhost:8080/",
          "height": 165
        },
        "outputId": "bf9f8476-5083-403a-a6d4-8c0ba9dc94cb"
      },
      "source": [
        "X.head(2)"
      ],
      "execution_count": 154,
      "outputs": [
        {
          "output_type": "execute_result",
          "data": {
            "text/html": [
              "<div>\n",
              "<style scoped>\n",
              "    .dataframe tbody tr th:only-of-type {\n",
              "        vertical-align: middle;\n",
              "    }\n",
              "\n",
              "    .dataframe tbody tr th {\n",
              "        vertical-align: top;\n",
              "    }\n",
              "\n",
              "    .dataframe thead th {\n",
              "        text-align: right;\n",
              "    }\n",
              "</style>\n",
              "<table border=\"1\" class=\"dataframe\">\n",
              "  <thead>\n",
              "    <tr style=\"text-align: right;\">\n",
              "      <th></th>\n",
              "      <th>Account Length</th>\n",
              "      <th>Area code</th>\n",
              "      <th>Vmail Message</th>\n",
              "      <th>Day mins</th>\n",
              "      <th>Day calls</th>\n",
              "      <th>Day charge</th>\n",
              "      <th>Eve mins</th>\n",
              "      <th>Eve calls</th>\n",
              "      <th>Eve charge</th>\n",
              "      <th>Night mins</th>\n",
              "      <th>Night calls</th>\n",
              "      <th>Night charge</th>\n",
              "      <th>International mins</th>\n",
              "      <th>International calls</th>\n",
              "      <th>International charge</th>\n",
              "      <th>Custserve calls</th>\n",
              "      <th>International Plan_ yes</th>\n",
              "      <th>Vmail plan_ yes</th>\n",
              "    </tr>\n",
              "  </thead>\n",
              "  <tbody>\n",
              "    <tr>\n",
              "      <th>0</th>\n",
              "      <td>128</td>\n",
              "      <td>415</td>\n",
              "      <td>25</td>\n",
              "      <td>265.1</td>\n",
              "      <td>110</td>\n",
              "      <td>45.07</td>\n",
              "      <td>197.4</td>\n",
              "      <td>99</td>\n",
              "      <td>16.78</td>\n",
              "      <td>244.7</td>\n",
              "      <td>91</td>\n",
              "      <td>11.01</td>\n",
              "      <td>10.0</td>\n",
              "      <td>3</td>\n",
              "      <td>2.7</td>\n",
              "      <td>1</td>\n",
              "      <td>0</td>\n",
              "      <td>1</td>\n",
              "    </tr>\n",
              "    <tr>\n",
              "      <th>1</th>\n",
              "      <td>107</td>\n",
              "      <td>415</td>\n",
              "      <td>26</td>\n",
              "      <td>161.6</td>\n",
              "      <td>123</td>\n",
              "      <td>27.47</td>\n",
              "      <td>195.5</td>\n",
              "      <td>103</td>\n",
              "      <td>16.62</td>\n",
              "      <td>254.4</td>\n",
              "      <td>103</td>\n",
              "      <td>11.45</td>\n",
              "      <td>13.7</td>\n",
              "      <td>3</td>\n",
              "      <td>3.7</td>\n",
              "      <td>1</td>\n",
              "      <td>0</td>\n",
              "      <td>1</td>\n",
              "    </tr>\n",
              "  </tbody>\n",
              "</table>\n",
              "</div>"
            ],
            "text/plain": [
              "   Account Length  Area code  ...  International Plan_ yes  Vmail plan_ yes\n",
              "0             128        415  ...                        0                1\n",
              "1             107        415  ...                        0                1\n",
              "\n",
              "[2 rows x 18 columns]"
            ]
          },
          "metadata": {
            "tags": []
          },
          "execution_count": 154
        }
      ]
    },
    {
      "cell_type": "code",
      "metadata": {
        "id": "D4Vo5ofPvCIl",
        "colab_type": "code",
        "colab": {}
      },
      "source": [
        "# Use Dictornary for All Algorithms in one Line\n",
        "classifiers={'Support Vector Machine'      : SVC(),\n",
        "             'Decision Tree'               : DecisionTreeClassifier(),    \n",
        "             'XGBoost'                     : XGBClassifier(),\n",
        "             'Random Forest'               : RandomForestClassifier(),\n",
        "             'Logistic Regression'         : LogisticRegression()}"
      ],
      "execution_count": 0,
      "outputs": []
    },
    {
      "cell_type": "code",
      "metadata": {
        "id": "gWPnnyaVya46",
        "colab_type": "code",
        "colab": {}
      },
      "source": [
        "#X= data.iloc[:,1:19].values\n",
        "#y= data.iloc[:,20].values"
      ],
      "execution_count": 0,
      "outputs": []
    },
    {
      "cell_type": "code",
      "metadata": {
        "id": "DPHki-PmxePX",
        "colab_type": "code",
        "colab": {}
      },
      "source": [
        "#Train and test\n",
        "X_train,X_test,y_train,y_test=train_test_split(X,y, test_size=0.3, random_state=10)"
      ],
      "execution_count": 0,
      "outputs": []
    },
    {
      "cell_type": "code",
      "metadata": {
        "id": "kMAUj3xj_ICn",
        "colab_type": "code",
        "colab": {}
      },
      "source": [
        "# import warnings filter\n",
        "from warnings import simplefilter\n",
        "# ignore all future warnings\n",
        "simplefilter(action='ignore', category=FutureWarning)"
      ],
      "execution_count": 0,
      "outputs": []
    },
    {
      "cell_type": "code",
      "metadata": {
        "id": "wI3Vh1CnxUE9",
        "colab_type": "code",
        "colab": {
          "base_uri": "https://localhost:8080/",
          "height": 136
        },
        "outputId": "e406be29-35fa-482b-d8f5-06b8928cd7a7"
      },
      "source": [
        "#For looping for All Model in one Line\n",
        "print('\\033[1m'+\"Model\\t\\t\\t\\t\\t\\tAccuracy\\n\")\n",
        "for name,model in classifiers.items():\n",
        "    model=model\n",
        "    model.fit(X_train,y_train)\n",
        "    score=model.score(X_test,y_test)\n",
        "    print(\"{} :\\t\\t {}\".format(name,score))"
      ],
      "execution_count": 159,
      "outputs": [
        {
          "output_type": "stream",
          "text": [
            "\u001b[1mModel\t\t\t\t\t\tAccuracy\n",
            "\n",
            "Support Vector Machine :\t\t 0.8658008658008658\n",
            "Decision Tree :\t\t 0.9206349206349206\n",
            "XGBoost :\t\t 0.9552669552669553\n",
            "Random Forest :\t\t 0.9458874458874459\n",
            "Logistic Regression :\t\t 0.8585858585858586\n"
          ],
          "name": "stdout"
        }
      ]
    },
    {
      "cell_type": "code",
      "metadata": {
        "id": "HObcya8axYue",
        "colab_type": "code",
        "colab": {}
      },
      "source": [
        "#from sklearn.model_selection import GridSearchCV"
      ],
      "execution_count": 0,
      "outputs": []
    },
    {
      "cell_type": "code",
      "metadata": {
        "id": "-R8PQwpO0DKQ",
        "colab_type": "code",
        "colab": {}
      },
      "source": [
        "#Grid Search  to find the value from kernel , c , gamma\n",
        "#parameters=[{'kernel':['linear'], 'C':[1,10,100,1000,10000]},\n",
        "#           {'kernel':['rbf'],'gamma':[0.5, 0.1, 0.05,0.07,0.08], 'C':[1,10,100,1000,10000]}]"
      ],
      "execution_count": 0,
      "outputs": []
    },
    {
      "cell_type": "code",
      "metadata": {
        "id": "UuoXY6LC0F5g",
        "colab_type": "code",
        "colab": {}
      },
      "source": [
        "#grid_model_svc= GridSearchCV(SVC(), parameters)\n",
        "#grid_model_svc.fit(X_train, y_train)\n",
        "#grid_model_svc.best_score_"
      ],
      "execution_count": 0,
      "outputs": []
    },
    {
      "cell_type": "code",
      "metadata": {
        "id": "X5N70i7Q0JtU",
        "colab_type": "code",
        "colab": {}
      },
      "source": [
        "#grid_model_svc.best_params_"
      ],
      "execution_count": 0,
      "outputs": []
    },
    {
      "cell_type": "code",
      "metadata": {
        "id": "WwbYUkYtu9pZ",
        "colab_type": "code",
        "colab": {}
      },
      "source": [
        "#Model ANN\n",
        "clf = Sequential()"
      ],
      "execution_count": 0,
      "outputs": []
    },
    {
      "cell_type": "code",
      "metadata": {
        "id": "Rmp3K-IrMxeN",
        "colab_type": "code",
        "colab": {}
      },
      "source": [
        "sc = StandardScaler()"
      ],
      "execution_count": 0,
      "outputs": []
    },
    {
      "cell_type": "code",
      "metadata": {
        "id": "YvInxEz8M1P-",
        "colab_type": "code",
        "colab": {}
      },
      "source": [
        "#Transforming\n",
        "X_train=sc.fit_transform(X_train)\n",
        "X_test=sc.transform(X_test)"
      ],
      "execution_count": 0,
      "outputs": []
    },
    {
      "cell_type": "code",
      "metadata": {
        "id": "YLwk8LpgM34g",
        "colab_type": "code",
        "colab": {
          "base_uri": "https://localhost:8080/",
          "height": 139
        },
        "outputId": "e0d2282d-c20f-4849-dce0-251d0d878a10"
      },
      "source": [
        "#Hidden layers , input, units\n",
        "clf.add(Dense(units=6, activation='relu', input_dim=18))\n",
        "clf.add(Dropout(0.2))\n",
        "clf.add(Dense(units=9, activation='relu'))\n",
        "clf.add(Dropout(0.2))\n",
        "#clf.add(Dense(units=6, activation='relu'))\n",
        "clf.add(Dense(units= 1, activation='sigmoid'))"
      ],
      "execution_count": 171,
      "outputs": [
        {
          "output_type": "stream",
          "text": [
            "WARNING:tensorflow:From /usr/local/lib/python3.6/dist-packages/tensorflow/python/framework/op_def_library.py:263: colocate_with (from tensorflow.python.framework.ops) is deprecated and will be removed in a future version.\n",
            "Instructions for updating:\n",
            "Colocations handled automatically by placer.\n",
            "WARNING:tensorflow:From /usr/local/lib/python3.6/dist-packages/keras/backend/tensorflow_backend.py:3445: calling dropout (from tensorflow.python.ops.nn_ops) with keep_prob is deprecated and will be removed in a future version.\n",
            "Instructions for updating:\n",
            "Please use `rate` instead of `keep_prob`. Rate should be set to `rate = 1 - keep_prob`.\n"
          ],
          "name": "stdout"
        }
      ]
    },
    {
      "cell_type": "code",
      "metadata": {
        "id": "RlldIS9ZM7Fm",
        "colab_type": "code",
        "colab": {}
      },
      "source": [
        "#compiling\n",
        "clf.compile(optimizer='adam', loss='binary_crossentropy', metrics=['accuracy'])"
      ],
      "execution_count": 0,
      "outputs": []
    },
    {
      "cell_type": "code",
      "metadata": {
        "id": "FhNtxrjOM-4v",
        "colab_type": "code",
        "colab": {
          "base_uri": "https://localhost:8080/",
          "height": 3505
        },
        "outputId": "154309bd-1b41-436a-8292-4b4fc5bdb6f3"
      },
      "source": [
        "#Fit the model\n",
        "m=clf.fit(X_train,y_train, batch_size=32, epochs=100, validation_split=0.1)"
      ],
      "execution_count": 173,
      "outputs": [
        {
          "output_type": "stream",
          "text": [
            "WARNING:tensorflow:From /usr/local/lib/python3.6/dist-packages/tensorflow/python/ops/math_ops.py:3066: to_int32 (from tensorflow.python.ops.math_ops) is deprecated and will be removed in a future version.\n",
            "Instructions for updating:\n",
            "Use tf.cast instead.\n",
            "Train on 2907 samples, validate on 324 samples\n",
            "Epoch 1/100\n",
            "2907/2907 [==============================] - 1s 313us/step - loss: 0.6316 - acc: 0.7138 - val_loss: 0.5142 - val_acc: 0.8364\n",
            "Epoch 2/100\n",
            "2907/2907 [==============================] - 0s 50us/step - loss: 0.5128 - acc: 0.8500 - val_loss: 0.4462 - val_acc: 0.8364\n",
            "Epoch 3/100\n",
            "2907/2907 [==============================] - 0s 46us/step - loss: 0.4609 - acc: 0.8507 - val_loss: 0.4127 - val_acc: 0.8364\n",
            "Epoch 4/100\n",
            "2907/2907 [==============================] - 0s 48us/step - loss: 0.4399 - acc: 0.8545 - val_loss: 0.3979 - val_acc: 0.8364\n",
            "Epoch 5/100\n",
            "2907/2907 [==============================] - 0s 47us/step - loss: 0.4126 - acc: 0.8566 - val_loss: 0.3879 - val_acc: 0.8364\n",
            "Epoch 6/100\n",
            "2907/2907 [==============================] - 0s 46us/step - loss: 0.4055 - acc: 0.8566 - val_loss: 0.3811 - val_acc: 0.8364\n",
            "Epoch 7/100\n",
            "2907/2907 [==============================] - 0s 50us/step - loss: 0.3940 - acc: 0.8559 - val_loss: 0.3752 - val_acc: 0.8364\n",
            "Epoch 8/100\n",
            "2907/2907 [==============================] - 0s 47us/step - loss: 0.3838 - acc: 0.8566 - val_loss: 0.3694 - val_acc: 0.8364\n",
            "Epoch 9/100\n",
            "2907/2907 [==============================] - 0s 46us/step - loss: 0.3777 - acc: 0.8566 - val_loss: 0.3643 - val_acc: 0.8364\n",
            "Epoch 10/100\n",
            "2907/2907 [==============================] - 0s 45us/step - loss: 0.3728 - acc: 0.8562 - val_loss: 0.3599 - val_acc: 0.8364\n",
            "Epoch 11/100\n",
            "2907/2907 [==============================] - 0s 45us/step - loss: 0.3638 - acc: 0.8562 - val_loss: 0.3558 - val_acc: 0.8364\n",
            "Epoch 12/100\n",
            "2907/2907 [==============================] - 0s 40us/step - loss: 0.3662 - acc: 0.8562 - val_loss: 0.3533 - val_acc: 0.8364\n",
            "Epoch 13/100\n",
            "2907/2907 [==============================] - 0s 41us/step - loss: 0.3566 - acc: 0.8566 - val_loss: 0.3522 - val_acc: 0.8364\n",
            "Epoch 14/100\n",
            "2907/2907 [==============================] - 0s 37us/step - loss: 0.3564 - acc: 0.8566 - val_loss: 0.3506 - val_acc: 0.8364\n",
            "Epoch 15/100\n",
            "2907/2907 [==============================] - 0s 39us/step - loss: 0.3519 - acc: 0.8562 - val_loss: 0.3481 - val_acc: 0.8364\n",
            "Epoch 16/100\n",
            "2907/2907 [==============================] - 0s 39us/step - loss: 0.3519 - acc: 0.8566 - val_loss: 0.3467 - val_acc: 0.8364\n",
            "Epoch 17/100\n",
            "2907/2907 [==============================] - 0s 40us/step - loss: 0.3441 - acc: 0.8562 - val_loss: 0.3469 - val_acc: 0.8364\n",
            "Epoch 18/100\n",
            "2907/2907 [==============================] - 0s 37us/step - loss: 0.3452 - acc: 0.8566 - val_loss: 0.3464 - val_acc: 0.8364\n",
            "Epoch 19/100\n",
            "2907/2907 [==============================] - 0s 37us/step - loss: 0.3462 - acc: 0.8566 - val_loss: 0.3452 - val_acc: 0.8364\n",
            "Epoch 20/100\n",
            "2907/2907 [==============================] - 0s 37us/step - loss: 0.3415 - acc: 0.8566 - val_loss: 0.3445 - val_acc: 0.8364\n",
            "Epoch 21/100\n",
            "2907/2907 [==============================] - 0s 37us/step - loss: 0.3408 - acc: 0.8566 - val_loss: 0.3427 - val_acc: 0.8364\n",
            "Epoch 22/100\n",
            "2907/2907 [==============================] - 0s 41us/step - loss: 0.3314 - acc: 0.8566 - val_loss: 0.3444 - val_acc: 0.8364\n",
            "Epoch 23/100\n",
            "2907/2907 [==============================] - 0s 36us/step - loss: 0.3378 - acc: 0.8566 - val_loss: 0.3442 - val_acc: 0.8364\n",
            "Epoch 24/100\n",
            "2907/2907 [==============================] - 0s 40us/step - loss: 0.3309 - acc: 0.8566 - val_loss: 0.3441 - val_acc: 0.8364\n",
            "Epoch 25/100\n",
            "2907/2907 [==============================] - 0s 40us/step - loss: 0.3346 - acc: 0.8566 - val_loss: 0.3440 - val_acc: 0.8364\n",
            "Epoch 26/100\n",
            "2907/2907 [==============================] - 0s 38us/step - loss: 0.3298 - acc: 0.8566 - val_loss: 0.3436 - val_acc: 0.8364\n",
            "Epoch 27/100\n",
            "2907/2907 [==============================] - 0s 37us/step - loss: 0.3351 - acc: 0.8566 - val_loss: 0.3427 - val_acc: 0.8364\n",
            "Epoch 28/100\n",
            "2907/2907 [==============================] - 0s 43us/step - loss: 0.3322 - acc: 0.8566 - val_loss: 0.3422 - val_acc: 0.8364\n",
            "Epoch 29/100\n",
            "2907/2907 [==============================] - 0s 41us/step - loss: 0.3280 - acc: 0.8566 - val_loss: 0.3435 - val_acc: 0.8364\n",
            "Epoch 30/100\n",
            "2907/2907 [==============================] - 0s 37us/step - loss: 0.3363 - acc: 0.8569 - val_loss: 0.3420 - val_acc: 0.8364\n",
            "Epoch 31/100\n",
            "2907/2907 [==============================] - 0s 38us/step - loss: 0.3293 - acc: 0.8566 - val_loss: 0.3422 - val_acc: 0.8364\n",
            "Epoch 32/100\n",
            "2907/2907 [==============================] - 0s 37us/step - loss: 0.3246 - acc: 0.8566 - val_loss: 0.3424 - val_acc: 0.8364\n",
            "Epoch 33/100\n",
            "2907/2907 [==============================] - 0s 38us/step - loss: 0.3294 - acc: 0.8566 - val_loss: 0.3415 - val_acc: 0.8364\n",
            "Epoch 34/100\n",
            "2907/2907 [==============================] - 0s 37us/step - loss: 0.3302 - acc: 0.8566 - val_loss: 0.3424 - val_acc: 0.8364\n",
            "Epoch 35/100\n",
            "2907/2907 [==============================] - 0s 41us/step - loss: 0.3259 - acc: 0.8562 - val_loss: 0.3415 - val_acc: 0.8364\n",
            "Epoch 36/100\n",
            "2907/2907 [==============================] - 0s 37us/step - loss: 0.3222 - acc: 0.8566 - val_loss: 0.3415 - val_acc: 0.8364\n",
            "Epoch 37/100\n",
            "2907/2907 [==============================] - 0s 37us/step - loss: 0.3279 - acc: 0.8566 - val_loss: 0.3399 - val_acc: 0.8364\n",
            "Epoch 38/100\n",
            "2907/2907 [==============================] - 0s 37us/step - loss: 0.3292 - acc: 0.8562 - val_loss: 0.3407 - val_acc: 0.8364\n",
            "Epoch 39/100\n",
            "2907/2907 [==============================] - 0s 40us/step - loss: 0.3253 - acc: 0.8562 - val_loss: 0.3396 - val_acc: 0.8364\n",
            "Epoch 40/100\n",
            "2907/2907 [==============================] - 0s 37us/step - loss: 0.3261 - acc: 0.8566 - val_loss: 0.3390 - val_acc: 0.8364\n",
            "Epoch 41/100\n",
            "2907/2907 [==============================] - 0s 37us/step - loss: 0.3342 - acc: 0.8566 - val_loss: 0.3381 - val_acc: 0.8364\n",
            "Epoch 42/100\n",
            "2907/2907 [==============================] - 0s 37us/step - loss: 0.3284 - acc: 0.8566 - val_loss: 0.3374 - val_acc: 0.8364\n",
            "Epoch 43/100\n",
            "2907/2907 [==============================] - 0s 41us/step - loss: 0.3225 - acc: 0.8566 - val_loss: 0.3371 - val_acc: 0.8364\n",
            "Epoch 44/100\n",
            "2907/2907 [==============================] - 0s 39us/step - loss: 0.3299 - acc: 0.8566 - val_loss: 0.3372 - val_acc: 0.8364\n",
            "Epoch 45/100\n",
            "2907/2907 [==============================] - 0s 37us/step - loss: 0.3291 - acc: 0.8566 - val_loss: 0.3388 - val_acc: 0.8364\n",
            "Epoch 46/100\n",
            "2907/2907 [==============================] - 0s 39us/step - loss: 0.3233 - acc: 0.8566 - val_loss: 0.3375 - val_acc: 0.8364\n",
            "Epoch 47/100\n",
            "2907/2907 [==============================] - 0s 40us/step - loss: 0.3162 - acc: 0.8566 - val_loss: 0.3371 - val_acc: 0.8364\n",
            "Epoch 48/100\n",
            "2907/2907 [==============================] - 0s 40us/step - loss: 0.3310 - acc: 0.8566 - val_loss: 0.3371 - val_acc: 0.8364\n",
            "Epoch 49/100\n",
            "2907/2907 [==============================] - 0s 37us/step - loss: 0.3169 - acc: 0.8569 - val_loss: 0.3354 - val_acc: 0.8364\n",
            "Epoch 50/100\n",
            "2907/2907 [==============================] - 0s 37us/step - loss: 0.3288 - acc: 0.8572 - val_loss: 0.3360 - val_acc: 0.8364\n",
            "Epoch 51/100\n",
            "2907/2907 [==============================] - 0s 38us/step - loss: 0.3279 - acc: 0.8566 - val_loss: 0.3350 - val_acc: 0.8364\n",
            "Epoch 52/100\n",
            "2907/2907 [==============================] - 0s 38us/step - loss: 0.3243 - acc: 0.8572 - val_loss: 0.3357 - val_acc: 0.8364\n",
            "Epoch 53/100\n",
            "2907/2907 [==============================] - 0s 37us/step - loss: 0.3255 - acc: 0.8559 - val_loss: 0.3353 - val_acc: 0.8364\n",
            "Epoch 54/100\n",
            "2907/2907 [==============================] - 0s 37us/step - loss: 0.3278 - acc: 0.8566 - val_loss: 0.3361 - val_acc: 0.8364\n",
            "Epoch 55/100\n",
            "2907/2907 [==============================] - 0s 37us/step - loss: 0.3248 - acc: 0.8566 - val_loss: 0.3354 - val_acc: 0.8364\n",
            "Epoch 56/100\n",
            "2907/2907 [==============================] - 0s 37us/step - loss: 0.3288 - acc: 0.8566 - val_loss: 0.3325 - val_acc: 0.8364\n",
            "Epoch 57/100\n",
            "2907/2907 [==============================] - 0s 37us/step - loss: 0.3234 - acc: 0.8566 - val_loss: 0.3329 - val_acc: 0.8364\n",
            "Epoch 58/100\n",
            "2907/2907 [==============================] - 0s 37us/step - loss: 0.3280 - acc: 0.8566 - val_loss: 0.3342 - val_acc: 0.8364\n",
            "Epoch 59/100\n",
            "2907/2907 [==============================] - 0s 40us/step - loss: 0.3251 - acc: 0.8566 - val_loss: 0.3345 - val_acc: 0.8364\n",
            "Epoch 60/100\n",
            "2907/2907 [==============================] - 0s 47us/step - loss: 0.3215 - acc: 0.8566 - val_loss: 0.3339 - val_acc: 0.8364\n",
            "Epoch 61/100\n",
            "2907/2907 [==============================] - 0s 40us/step - loss: 0.3239 - acc: 0.8566 - val_loss: 0.3348 - val_acc: 0.8364\n",
            "Epoch 62/100\n",
            "2907/2907 [==============================] - 0s 37us/step - loss: 0.3253 - acc: 0.8566 - val_loss: 0.3338 - val_acc: 0.8364\n",
            "Epoch 63/100\n",
            "2907/2907 [==============================] - 0s 38us/step - loss: 0.3241 - acc: 0.8566 - val_loss: 0.3340 - val_acc: 0.8364\n",
            "Epoch 64/100\n",
            "2907/2907 [==============================] - 0s 39us/step - loss: 0.3215 - acc: 0.8566 - val_loss: 0.3343 - val_acc: 0.8364\n",
            "Epoch 65/100\n",
            "2907/2907 [==============================] - 0s 37us/step - loss: 0.3146 - acc: 0.8566 - val_loss: 0.3339 - val_acc: 0.8364\n",
            "Epoch 66/100\n",
            "2907/2907 [==============================] - 0s 36us/step - loss: 0.3228 - acc: 0.8566 - val_loss: 0.3331 - val_acc: 0.8364\n",
            "Epoch 67/100\n",
            "2907/2907 [==============================] - 0s 38us/step - loss: 0.3209 - acc: 0.8555 - val_loss: 0.3321 - val_acc: 0.8364\n",
            "Epoch 68/100\n",
            "2907/2907 [==============================] - 0s 37us/step - loss: 0.3190 - acc: 0.8562 - val_loss: 0.3317 - val_acc: 0.8364\n",
            "Epoch 69/100\n",
            "2907/2907 [==============================] - 0s 38us/step - loss: 0.3218 - acc: 0.8566 - val_loss: 0.3314 - val_acc: 0.8364\n",
            "Epoch 70/100\n",
            "2907/2907 [==============================] - 0s 43us/step - loss: 0.3197 - acc: 0.8566 - val_loss: 0.3323 - val_acc: 0.8364\n",
            "Epoch 71/100\n",
            "2907/2907 [==============================] - 0s 37us/step - loss: 0.3254 - acc: 0.8566 - val_loss: 0.3328 - val_acc: 0.8364\n",
            "Epoch 72/100\n",
            "2907/2907 [==============================] - 0s 40us/step - loss: 0.3236 - acc: 0.8566 - val_loss: 0.3329 - val_acc: 0.8364\n",
            "Epoch 73/100\n",
            "2907/2907 [==============================] - 0s 40us/step - loss: 0.3197 - acc: 0.8566 - val_loss: 0.3337 - val_acc: 0.8364\n",
            "Epoch 74/100\n",
            "2907/2907 [==============================] - 0s 40us/step - loss: 0.3240 - acc: 0.8566 - val_loss: 0.3337 - val_acc: 0.8364\n",
            "Epoch 75/100\n",
            "2907/2907 [==============================] - 0s 38us/step - loss: 0.3205 - acc: 0.8566 - val_loss: 0.3335 - val_acc: 0.8364\n",
            "Epoch 76/100\n",
            "2907/2907 [==============================] - 0s 38us/step - loss: 0.3212 - acc: 0.8566 - val_loss: 0.3338 - val_acc: 0.8364\n",
            "Epoch 77/100\n",
            "2907/2907 [==============================] - 0s 37us/step - loss: 0.3319 - acc: 0.8566 - val_loss: 0.3324 - val_acc: 0.8364\n",
            "Epoch 78/100\n",
            "2907/2907 [==============================] - 0s 38us/step - loss: 0.3236 - acc: 0.8566 - val_loss: 0.3334 - val_acc: 0.8364\n",
            "Epoch 79/100\n",
            "2907/2907 [==============================] - 0s 40us/step - loss: 0.3230 - acc: 0.8566 - val_loss: 0.3343 - val_acc: 0.8364\n",
            "Epoch 80/100\n",
            "2907/2907 [==============================] - 0s 39us/step - loss: 0.3164 - acc: 0.8566 - val_loss: 0.3324 - val_acc: 0.8364\n",
            "Epoch 81/100\n",
            "2907/2907 [==============================] - 0s 38us/step - loss: 0.3182 - acc: 0.8566 - val_loss: 0.3309 - val_acc: 0.8364\n",
            "Epoch 82/100\n",
            "2907/2907 [==============================] - 0s 40us/step - loss: 0.3220 - acc: 0.8566 - val_loss: 0.3310 - val_acc: 0.8364\n",
            "Epoch 83/100\n",
            "2907/2907 [==============================] - 0s 39us/step - loss: 0.3237 - acc: 0.8566 - val_loss: 0.3307 - val_acc: 0.8364\n",
            "Epoch 84/100\n",
            "2907/2907 [==============================] - 0s 37us/step - loss: 0.3216 - acc: 0.8566 - val_loss: 0.3308 - val_acc: 0.8364\n",
            "Epoch 85/100\n",
            "2907/2907 [==============================] - 0s 42us/step - loss: 0.3209 - acc: 0.8566 - val_loss: 0.3312 - val_acc: 0.8364\n",
            "Epoch 86/100\n",
            "2907/2907 [==============================] - 0s 38us/step - loss: 0.3163 - acc: 0.8566 - val_loss: 0.3320 - val_acc: 0.8364\n",
            "Epoch 87/100\n",
            "2907/2907 [==============================] - 0s 40us/step - loss: 0.3163 - acc: 0.8566 - val_loss: 0.3316 - val_acc: 0.8364\n",
            "Epoch 88/100\n",
            "2907/2907 [==============================] - 0s 41us/step - loss: 0.3185 - acc: 0.8566 - val_loss: 0.3308 - val_acc: 0.8364\n",
            "Epoch 89/100\n",
            "2907/2907 [==============================] - 0s 37us/step - loss: 0.3145 - acc: 0.8566 - val_loss: 0.3301 - val_acc: 0.8364\n",
            "Epoch 90/100\n",
            "2907/2907 [==============================] - 0s 39us/step - loss: 0.3187 - acc: 0.8566 - val_loss: 0.3306 - val_acc: 0.8364\n",
            "Epoch 91/100\n",
            "2907/2907 [==============================] - 0s 39us/step - loss: 0.3210 - acc: 0.8566 - val_loss: 0.3319 - val_acc: 0.8364\n",
            "Epoch 92/100\n",
            "2907/2907 [==============================] - 0s 37us/step - loss: 0.3142 - acc: 0.8566 - val_loss: 0.3308 - val_acc: 0.8364\n",
            "Epoch 93/100\n",
            "2907/2907 [==============================] - 0s 40us/step - loss: 0.3187 - acc: 0.8566 - val_loss: 0.3311 - val_acc: 0.8364\n",
            "Epoch 94/100\n",
            "2907/2907 [==============================] - 0s 36us/step - loss: 0.3190 - acc: 0.8566 - val_loss: 0.3316 - val_acc: 0.8364\n",
            "Epoch 95/100\n",
            "2907/2907 [==============================] - 0s 40us/step - loss: 0.3151 - acc: 0.8566 - val_loss: 0.3322 - val_acc: 0.8364\n",
            "Epoch 96/100\n",
            "2907/2907 [==============================] - 0s 38us/step - loss: 0.3193 - acc: 0.8566 - val_loss: 0.3322 - val_acc: 0.8364\n",
            "Epoch 97/100\n",
            "2907/2907 [==============================] - 0s 42us/step - loss: 0.3185 - acc: 0.8566 - val_loss: 0.3301 - val_acc: 0.8364\n",
            "Epoch 98/100\n",
            "2907/2907 [==============================] - 0s 40us/step - loss: 0.3226 - acc: 0.8566 - val_loss: 0.3309 - val_acc: 0.8364\n",
            "Epoch 99/100\n",
            "2907/2907 [==============================] - 0s 38us/step - loss: 0.3160 - acc: 0.8566 - val_loss: 0.3311 - val_acc: 0.8364\n",
            "Epoch 100/100\n",
            "2907/2907 [==============================] - 0s 39us/step - loss: 0.3093 - acc: 0.8566 - val_loss: 0.3317 - val_acc: 0.8364\n"
          ],
          "name": "stdout"
        }
      ]
    },
    {
      "cell_type": "code",
      "metadata": {
        "id": "zd-_rFR5NBY2",
        "colab_type": "code",
        "colab": {
          "base_uri": "https://localhost:8080/",
          "height": 286
        },
        "outputId": "dd9e6378-fe91-4750-fed0-c0868fd666ac"
      },
      "source": [
        "#Plotting\n",
        "plt.plot(m.history['loss'])\n",
        "plt.plot(m.history['val_loss'])"
      ],
      "execution_count": 174,
      "outputs": [
        {
          "output_type": "execute_result",
          "data": {
            "text/plain": [
              "[<matplotlib.lines.Line2D at 0x7fbaf32719b0>]"
            ]
          },
          "metadata": {
            "tags": []
          },
          "execution_count": 174
        },
        {
          "output_type": "display_data",
          "data": {
            "image/png": "[encoded data removed]",
            "text/plain": [
              "<Figure size 432x288 with 1 Axes>"
            ]
          },
          "metadata": {
            "tags": []
          }
        }
      ]
    },
    {
      "cell_type": "code",
      "metadata": {
        "id": "q4dAMgazNHQT",
        "colab_type": "code",
        "colab": {
          "base_uri": "https://localhost:8080/",
          "height": 286
        },
        "outputId": "a1c8aed0-9826-4fcc-96a4-0351f3568e0c"
      },
      "source": [
        "plt.plot(m.history['acc'])\n",
        "plt.plot(m.history['val_acc'])"
      ],
      "execution_count": 175,
      "outputs": [
        {
          "output_type": "execute_result",
          "data": {
            "text/plain": [
              "[<matplotlib.lines.Line2D at 0x7fbaf2a100b8>]"
            ]
          },
          "metadata": {
            "tags": []
          },
          "execution_count": 175
        },
        {
          "output_type": "display_data",
          "data": {
            "image/png": "[encoded data removed]",
            "text/plain": [
              "<Figure size 432x288 with 1 Axes>"
            ]
          },
          "metadata": {
            "tags": []
          }
        }
      ]
    },
    {
      "cell_type": "code",
      "metadata": {
        "id": "v6KGlQDpNJtc",
        "colab_type": "code",
        "colab": {
          "base_uri": "https://localhost:8080/",
          "height": 34
        },
        "outputId": "977dc587-cfa2-4df5-dcac-ebc6a422c182"
      },
      "source": [
        "#Evaluating\n",
        "score= clf.evaluate(X_test, y_test)\n"
      ],
      "execution_count": 176,
      "outputs": [
        {
          "output_type": "stream",
          "text": [
            "1386/1386 [==============================] - 0s 22us/step\n"
          ],
          "name": "stdout"
        }
      ]
    },
    {
      "cell_type": "code",
      "metadata": {
        "id": "fL-n7N7NNL4O",
        "colab_type": "code",
        "colab": {
          "base_uri": "https://localhost:8080/",
          "height": 34
        },
        "outputId": "64a0eafb-9abf-498d-e53b-07a65e1756fc"
      },
      "source": [
        "score"
      ],
      "execution_count": 177,
      "outputs": [
        {
          "output_type": "execute_result",
          "data": {
            "text/plain": [
              "[0.31091051476686377, 0.8658008658008658]"
            ]
          },
          "metadata": {
            "tags": []
          },
          "execution_count": 177
        }
      ]
    },
    {
      "cell_type": "code",
      "metadata": {
        "id": "4vphUs4xNP0L",
        "colab_type": "code",
        "colab": {
          "base_uri": "https://localhost:8080/",
          "height": 88
        },
        "outputId": "98c5d9b4-4934-476c-a2bc-8a168030041e"
      },
      "source": [
        "#ML Deployment\n",
        "from sklearn.externals import joblib\n",
        "joblib.dump(clf,'TelecomProject.ml')"
      ],
      "execution_count": 178,
      "outputs": [
        {
          "output_type": "stream",
          "text": [
            "/usr/local/lib/python3.6/dist-packages/sklearn/externals/joblib/__init__.py:15: DeprecationWarning: sklearn.externals.joblib is deprecated in 0.21 and will be removed in 0.23. Please import this functionality directly from joblib, which can be installed with: pip install joblib. If this warning is raised when loading pickled models, you may need to re-serialize those models with scikit-learn 0.21+.\n",
            "  warnings.warn(msg, category=DeprecationWarning)\n"
          ],
          "name": "stderr"
        },
        {
          "output_type": "execute_result",
          "data": {
            "text/plain": [
              "['TelecomProject.ml']"
            ]
          },
          "metadata": {
            "tags": []
          },
          "execution_count": 178
        }
      ]
    }
  ]
}