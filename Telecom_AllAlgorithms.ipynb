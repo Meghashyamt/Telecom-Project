{
  "nbformat": 4,
  "nbformat_minor": 0,
  "metadata": {
    "colab": {
      "name": "Telecom AllAlgorithms.ipynb",
      "version": "0.3.2",
      "provenance": [],
      "include_colab_link": true
    },
    "kernelspec": {
      "name": "python3",
      "display_name": "Python 3"
    }
  },
  "cells": [
    {
      "cell_type": "markdown",
      "metadata": {
        "id": "view-in-github",
        "colab_type": "text"
      },
      "source": [
        "<a href=\"https://colab.research.google.com/github/Meghashyamt/Telecom-Project/blob/master/Telecom_AllAlgorithms.ipynb\" target=\"_parent\"><img src=\"https://colab.research.google.com/assets/colab-badge.svg\" alt=\"Open In Colab\"/></a>"
      ]
    },
    {
      "cell_type": "code",
      "metadata": {
        "id": "Fc5LUjZCsNTp",
        "colab_type": "code",
        "colab": {
          "base_uri": "https://localhost:8080/",
          "height": 34
        },
        "outputId": "823ed55d-378f-4e76-eeae-276836bf75c7"
      },
      "source": [
        "#Cloning Project From M Github\n",
        "!git clone https://github.com/Meghashyamt/Telecom-Project"
      ],
      "execution_count": 108,
      "outputs": [
        {
          "output_type": "stream",
          "text": [
            "fatal: destination path 'Telecom-Project' already exists and is not an empty directory.\n"
          ],
          "name": "stdout"
        }
      ]
    },
    {
      "cell_type": "code",
      "metadata": {
        "id": "AljnHn7VsqHo",
        "colab_type": "code",
        "colab": {}
      },
      "source": [
        "#import libraries\n",
        "import numpy as np\n",
        "import pandas as pd\n",
        "\n",
        "import matplotlib.pyplot as plt\n",
        "import seaborn as sb\n",
        "\n",
        "from sklearn.model_selection import train_test_split\n",
        "from sklearn.linear_model import LogisticRegression\n",
        "from sklearn.tree import DecisionTreeClassifier\n",
        "from sklearn.ensemble import RandomForestClassifier\n",
        "from sklearn.svm import SVC\n",
        "from xgboost import XGBClassifier\n",
        "\n",
        "from sklearn.metrics import accuracy_score, confusion_matrix, classification_report\n",
        "from sklearn.preprocessing import scale, LabelEncoder"
      ],
      "execution_count": 0,
      "outputs": []
    },
    {
      "cell_type": "code",
      "metadata": {
        "id": "WEw5a4EUsZ3U",
        "colab_type": "code",
        "colab": {
          "base_uri": "https://localhost:8080/",
          "height": 182
        },
        "outputId": "ef8226d8-31c1-4339-e923-44346f5e937a"
      },
      "source": [
        "#Import Data\n",
        "data = pd.read_csv(\"Telecom-Project/telecom_churn_data.csv\")\n",
        "data.head(2)"
      ],
      "execution_count": 110,
      "outputs": [
        {
          "output_type": "execute_result",
          "data": {
            "text/html": [
              "<div>\n",
              "<style scoped>\n",
              "    .dataframe tbody tr th:only-of-type {\n",
              "        vertical-align: middle;\n",
              "    }\n",
              "\n",
              "    .dataframe tbody tr th {\n",
              "        vertical-align: top;\n",
              "    }\n",
              "\n",
              "    .dataframe thead th {\n",
              "        text-align: right;\n",
              "    }\n",
              "</style>\n",
              "<table border=\"1\" class=\"dataframe\">\n",
              "  <thead>\n",
              "    <tr style=\"text-align: right;\">\n",
              "      <th></th>\n",
              "      <th>State</th>\n",
              "      <th>Account Length</th>\n",
              "      <th>Area code</th>\n",
              "      <th>Phone</th>\n",
              "      <th>International Plan</th>\n",
              "      <th>Vmail plan</th>\n",
              "      <th>Vmail Message</th>\n",
              "      <th>Day mins</th>\n",
              "      <th>Day calls</th>\n",
              "      <th>Day charge</th>\n",
              "      <th>Eve mins</th>\n",
              "      <th>Eve calls</th>\n",
              "      <th>Eve charge</th>\n",
              "      <th>Night mins</th>\n",
              "      <th>Night calls</th>\n",
              "      <th>Night charge</th>\n",
              "      <th>International mins</th>\n",
              "      <th>International calls</th>\n",
              "      <th>International charge</th>\n",
              "      <th>Custserve calls</th>\n",
              "      <th>Churn</th>\n",
              "    </tr>\n",
              "  </thead>\n",
              "  <tbody>\n",
              "    <tr>\n",
              "      <th>0</th>\n",
              "      <td>KS</td>\n",
              "      <td>128</td>\n",
              "      <td>415</td>\n",
              "      <td>382-4657</td>\n",
              "      <td>no</td>\n",
              "      <td>yes</td>\n",
              "      <td>25</td>\n",
              "      <td>265.1</td>\n",
              "      <td>110</td>\n",
              "      <td>45.07</td>\n",
              "      <td>197.4</td>\n",
              "      <td>99</td>\n",
              "      <td>16.78</td>\n",
              "      <td>244.7</td>\n",
              "      <td>91</td>\n",
              "      <td>11.01</td>\n",
              "      <td>10.0</td>\n",
              "      <td>3</td>\n",
              "      <td>2.7</td>\n",
              "      <td>1</td>\n",
              "      <td>0</td>\n",
              "    </tr>\n",
              "    <tr>\n",
              "      <th>1</th>\n",
              "      <td>OH</td>\n",
              "      <td>107</td>\n",
              "      <td>415</td>\n",
              "      <td>371-7191</td>\n",
              "      <td>no</td>\n",
              "      <td>yes</td>\n",
              "      <td>26</td>\n",
              "      <td>161.6</td>\n",
              "      <td>123</td>\n",
              "      <td>27.47</td>\n",
              "      <td>195.5</td>\n",
              "      <td>103</td>\n",
              "      <td>16.62</td>\n",
              "      <td>254.4</td>\n",
              "      <td>103</td>\n",
              "      <td>11.45</td>\n",
              "      <td>13.7</td>\n",
              "      <td>3</td>\n",
              "      <td>3.7</td>\n",
              "      <td>1</td>\n",
              "      <td>0</td>\n",
              "    </tr>\n",
              "  </tbody>\n",
              "</table>\n",
              "</div>"
            ],
            "text/plain": [
              "  State  Account Length  ...  Custserve calls  Churn\n",
              "0    KS             128  ...                 1     0\n",
              "1    OH             107  ...                 1     0\n",
              "\n",
              "[2 rows x 21 columns]"
            ]
          },
          "metadata": {
            "tags": []
          },
          "execution_count": 110
        }
      ]
    },
    {
      "cell_type": "code",
      "metadata": {
        "id": "avJud7E_syY0",
        "colab_type": "code",
        "colab": {}
      },
      "source": [
        "#Drop Phone Column\n",
        "data.drop(\"Phone\", axis=1, inplace=True)"
      ],
      "execution_count": 0,
      "outputs": []
    },
    {
      "cell_type": "code",
      "metadata": {
        "id": "oTmvxpOpsuR0",
        "colab_type": "code",
        "colab": {
          "base_uri": "https://localhost:8080/",
          "height": 442
        },
        "outputId": "5e19bd1e-6754-47be-e890-84afeb204fe0"
      },
      "source": [
        "#Information\n",
        "data.info()"
      ],
      "execution_count": 112,
      "outputs": [
        {
          "output_type": "stream",
          "text": [
            "<class 'pandas.core.frame.DataFrame'>\n",
            "RangeIndex: 4617 entries, 0 to 4616\n",
            "Data columns (total 20 columns):\n",
            "State                   4617 non-null object\n",
            "Account Length          4617 non-null int64\n",
            "Area code               4617 non-null int64\n",
            "International Plan      4617 non-null object\n",
            "Vmail plan              4617 non-null object\n",
            "Vmail Message           4617 non-null int64\n",
            "Day mins                4617 non-null float64\n",
            "Day calls               4617 non-null int64\n",
            "Day charge              4617 non-null float64\n",
            "Eve mins                4617 non-null float64\n",
            "Eve calls               4617 non-null int64\n",
            "Eve charge              4617 non-null float64\n",
            "Night mins              4617 non-null float64\n",
            "Night calls             4617 non-null int64\n",
            "Night charge            4617 non-null float64\n",
            "International mins      4617 non-null float64\n",
            "International calls     4617 non-null int64\n",
            "International charge    4617 non-null float64\n",
            "Custserve calls         4617 non-null int64\n",
            "Churn                   4617 non-null int64\n",
            "dtypes: float64(8), int64(9), object(3)\n",
            "memory usage: 721.5+ KB\n"
          ],
          "name": "stdout"
        }
      ]
    },
    {
      "cell_type": "code",
      "metadata": {
        "id": "34CW_28ZujTw",
        "colab_type": "code",
        "colab": {}
      },
      "source": [
        "#Adding new Column\n",
        "data['ChurnFlag']=(data['Churn']==True).astype(int)"
      ],
      "execution_count": 0,
      "outputs": []
    },
    {
      "cell_type": "code",
      "metadata": {
        "id": "M_70MgqRsoGB",
        "colab_type": "code",
        "colab": {}
      },
      "source": [
        "#Slicing the data\n",
        "X= data.iloc[:,1:19]\n",
        "y= data.iloc[:,20]"
      ],
      "execution_count": 0,
      "outputs": []
    },
    {
      "cell_type": "code",
      "metadata": {
        "id": "4Xhv1bS6u52n",
        "colab_type": "code",
        "colab": {}
      },
      "source": [
        "X=pd.get_dummies(X,drop_first=True)"
      ],
      "execution_count": 0,
      "outputs": []
    },
    {
      "cell_type": "code",
      "metadata": {
        "id": "Qlmu3CwSu_1m",
        "colab_type": "code",
        "colab": {
          "base_uri": "https://localhost:8080/",
          "height": 165
        },
        "outputId": "f0b66ded-3482-4573-ce3f-d446f0629809"
      },
      "source": [
        "X.head(2)"
      ],
      "execution_count": 116,
      "outputs": [
        {
          "output_type": "execute_result",
          "data": {
            "text/html": [
              "<div>\n",
              "<style scoped>\n",
              "    .dataframe tbody tr th:only-of-type {\n",
              "        vertical-align: middle;\n",
              "    }\n",
              "\n",
              "    .dataframe tbody tr th {\n",
              "        vertical-align: top;\n",
              "    }\n",
              "\n",
              "    .dataframe thead th {\n",
              "        text-align: right;\n",
              "    }\n",
              "</style>\n",
              "<table border=\"1\" class=\"dataframe\">\n",
              "  <thead>\n",
              "    <tr style=\"text-align: right;\">\n",
              "      <th></th>\n",
              "      <th>Account Length</th>\n",
              "      <th>Area code</th>\n",
              "      <th>Vmail Message</th>\n",
              "      <th>Day mins</th>\n",
              "      <th>Day calls</th>\n",
              "      <th>Day charge</th>\n",
              "      <th>Eve mins</th>\n",
              "      <th>Eve calls</th>\n",
              "      <th>Eve charge</th>\n",
              "      <th>Night mins</th>\n",
              "      <th>Night calls</th>\n",
              "      <th>Night charge</th>\n",
              "      <th>International mins</th>\n",
              "      <th>International calls</th>\n",
              "      <th>International charge</th>\n",
              "      <th>Custserve calls</th>\n",
              "      <th>International Plan_ yes</th>\n",
              "      <th>Vmail plan_ yes</th>\n",
              "    </tr>\n",
              "  </thead>\n",
              "  <tbody>\n",
              "    <tr>\n",
              "      <th>0</th>\n",
              "      <td>128</td>\n",
              "      <td>415</td>\n",
              "      <td>25</td>\n",
              "      <td>265.1</td>\n",
              "      <td>110</td>\n",
              "      <td>45.07</td>\n",
              "      <td>197.4</td>\n",
              "      <td>99</td>\n",
              "      <td>16.78</td>\n",
              "      <td>244.7</td>\n",
              "      <td>91</td>\n",
              "      <td>11.01</td>\n",
              "      <td>10.0</td>\n",
              "      <td>3</td>\n",
              "      <td>2.7</td>\n",
              "      <td>1</td>\n",
              "      <td>0</td>\n",
              "      <td>1</td>\n",
              "    </tr>\n",
              "    <tr>\n",
              "      <th>1</th>\n",
              "      <td>107</td>\n",
              "      <td>415</td>\n",
              "      <td>26</td>\n",
              "      <td>161.6</td>\n",
              "      <td>123</td>\n",
              "      <td>27.47</td>\n",
              "      <td>195.5</td>\n",
              "      <td>103</td>\n",
              "      <td>16.62</td>\n",
              "      <td>254.4</td>\n",
              "      <td>103</td>\n",
              "      <td>11.45</td>\n",
              "      <td>13.7</td>\n",
              "      <td>3</td>\n",
              "      <td>3.7</td>\n",
              "      <td>1</td>\n",
              "      <td>0</td>\n",
              "      <td>1</td>\n",
              "    </tr>\n",
              "  </tbody>\n",
              "</table>\n",
              "</div>"
            ],
            "text/plain": [
              "   Account Length  Area code  ...  International Plan_ yes  Vmail plan_ yes\n",
              "0             128        415  ...                        0                1\n",
              "1             107        415  ...                        0                1\n",
              "\n",
              "[2 rows x 18 columns]"
            ]
          },
          "metadata": {
            "tags": []
          },
          "execution_count": 116
        }
      ]
    },
    {
      "cell_type": "code",
      "metadata": {
        "id": "D4Vo5ofPvCIl",
        "colab_type": "code",
        "colab": {}
      },
      "source": [
        "# Use Dictornary for All Algorithms in one Line\n",
        "classifiers={'Logistic Regression' : LogisticRegression(),\n",
        "            'Decision Tree'        : DecisionTreeClassifier(),\n",
        "            'Random Forest'        : RandomForestClassifier(),\n",
        "            'Support Vector '      : SVC(),\n",
        "            'XGBoost'              : XGBClassifier()}"
      ],
      "execution_count": 0,
      "outputs": []
    },
    {
      "cell_type": "code",
      "metadata": {
        "id": "gWPnnyaVya46",
        "colab_type": "code",
        "colab": {}
      },
      "source": [
        "#X= data.iloc[:,1:19].values\n",
        "#y= data.iloc[:,20].values"
      ],
      "execution_count": 0,
      "outputs": []
    },
    {
      "cell_type": "code",
      "metadata": {
        "id": "DPHki-PmxePX",
        "colab_type": "code",
        "colab": {}
      },
      "source": [
        "#Train and test\n",
        "X_train,X_test,y_train,y_test=train_test_split(X,y, test_size=0.3, random_state=10)"
      ],
      "execution_count": 0,
      "outputs": []
    },
    {
      "cell_type": "code",
      "metadata": {
        "id": "kMAUj3xj_ICn",
        "colab_type": "code",
        "colab": {}
      },
      "source": [
        "# import warnings filter\n",
        "from warnings import simplefilter\n",
        "# ignore all future warnings\n",
        "simplefilter(action='ignore', category=FutureWarning)"
      ],
      "execution_count": 0,
      "outputs": []
    },
    {
      "cell_type": "code",
      "metadata": {
        "id": "wI3Vh1CnxUE9",
        "colab_type": "code",
        "colab": {
          "base_uri": "https://localhost:8080/",
          "height": 136
        },
        "outputId": "4c041417-4a64-4b58-81a0-edcc1cbc14d5"
      },
      "source": [
        "#For looping for All Model in one Line\n",
        "print(\"Model\\t\\t\\t\\t\\t\\tAccuracy\\n\")\n",
        "for name,model in classifiers.items():\n",
        "    model=model\n",
        "    model.fit(X_train,y_train)\n",
        "    score=model.score(X_test,y_test)\n",
        "    print(\"{} :\\t\\t\\t {}\".format(name,score))"
      ],
      "execution_count": 129,
      "outputs": [
        {
          "output_type": "stream",
          "text": [
            "Model\t\t\t\t\t\tAccuracy\n",
            "\n",
            "Logistic Regression :\t\t\t 0.8585858585858586\n",
            "Decision Tree :\t\t\t 0.9163059163059163\n",
            "Random Forest :\t\t\t 0.9502164502164502\n",
            "Support Vector  :\t\t\t 0.8658008658008658\n",
            "XGBoost :\t\t\t 0.9552669552669553\n"
          ],
          "name": "stdout"
        }
      ]
    },
    {
      "cell_type": "code",
      "metadata": {
        "id": "HObcya8axYue",
        "colab_type": "code",
        "colab": {}
      },
      "source": [
        "from sklearn.model_selection import GridSearchCV"
      ],
      "execution_count": 0,
      "outputs": []
    },
    {
      "cell_type": "code",
      "metadata": {
        "id": "-R8PQwpO0DKQ",
        "colab_type": "code",
        "colab": {}
      },
      "source": [
        "#Grid Search  to find the value from kernel , c , gamma\n",
        "#parameters=[{'kernel':['linear'], 'C':[1,10,100,1000,10000]},\n",
        "#           {'kernel':['rbf'],'gamma':[0.5, 0.1, 0.05,0.07,0.08], 'C':[1,10,100,1000,10000]}]"
      ],
      "execution_count": 0,
      "outputs": []
    },
    {
      "cell_type": "code",
      "metadata": {
        "id": "UuoXY6LC0F5g",
        "colab_type": "code",
        "colab": {}
      },
      "source": [
        "#grid_model_svc= GridSearchCV(SVC(), parameters)\n",
        "#grid_model_svc.fit(X_train, y_train)\n",
        "#grid_model_svc.best_score_"
      ],
      "execution_count": 0,
      "outputs": []
    },
    {
      "cell_type": "code",
      "metadata": {
        "id": "X5N70i7Q0JtU",
        "colab_type": "code",
        "colab": {}
      },
      "source": [
        "#grid_model_svc.best_params_"
      ],
      "execution_count": 0,
      "outputs": []
    },
    {
      "cell_type": "code",
      "metadata": {
        "id": "WwbYUkYtu9pZ",
        "colab_type": "code",
        "colab": {}
      },
      "source": [
        ""
      ],
      "execution_count": 0,
      "outputs": []
    }
  ]
}