{
  "nbformat": 4,
  "nbformat_minor": 0,
  "metadata": {
    "colab": {
      "name": "Telecom Project ANN.ipynb",
      "version": "0.3.2",
      "provenance": [],
      "collapsed_sections": [],
      "include_colab_link": true
    },
    "kernelspec": {
      "name": "python3",
      "display_name": "Python 3"
    },
    "accelerator": "GPU"
  },
  "cells": [
    {
      "cell_type": "markdown",
      "metadata": {
        "id": "view-in-github",
        "colab_type": "text"
      },
      "source": [
        "<a href=\"https://colab.research.google.com/github/Meghashyamt/Telecom-Project/blob/master/Telecom_Project_ANN.ipynb\" target=\"_parent\"><img src=\"https://colab.research.google.com/assets/colab-badge.svg\" alt=\"Open In Colab\"/></a>"
      ]
    },
    {
      "cell_type": "code",
      "metadata": {
        "id": "mrjrOZuc-iMt",
        "colab_type": "code",
        "colab": {
          "base_uri": "https://localhost:8080/",
          "height": 34
        },
        "outputId": "dd8ee746-d3c2-40c9-9c10-343bea337bbe"
      },
      "source": [
        "!git clone https://github.com/Meghashyamt/Telecom-Project.git\n",
        "  "
      ],
      "execution_count": 34,
      "outputs": [
        {
          "output_type": "stream",
          "text": [
            "fatal: destination path 'Telecom-Project' already exists and is not an empty directory.\n"
          ],
          "name": "stdout"
        }
      ]
    },
    {
      "cell_type": "code",
      "metadata": {
        "id": "mJQAbaCS_yUy",
        "colab_type": "code",
        "colab": {}
      },
      "source": [
        "#import libraries\n",
        "import numpy as np\n",
        "import pandas as pd\n",
        "import matplotlib.pyplot as plt\n",
        "%matplotlib inline\n",
        "\n",
        "#import keras\n",
        "import keras\n",
        "from keras.models import Sequential\n",
        "from keras.layers import Dense, Dropout\n",
        "\n",
        "\n"
      ],
      "execution_count": 0,
      "outputs": []
    },
    {
      "cell_type": "code",
      "metadata": {
        "id": "HDIjSy_SA9ZI",
        "colab_type": "code",
        "colab": {}
      },
      "source": [
        "#import data\n",
        "data = pd.read_csv(\"Telecom-Project/telecom_churn_data.csv\")"
      ],
      "execution_count": 0,
      "outputs": []
    },
    {
      "cell_type": "code",
      "metadata": {
        "id": "ywIc45OoBTEq",
        "colab_type": "code",
        "colab": {}
      },
      "source": [
        "#data.loc[0]=['State','Account Length','Area Code','Phone','International Plan','VMail Plan','VMail Message','Day Mins','Day calls','Day charge','Eve Mins','Eve calls','Eve Charge','Night Mins','Night calls','Night charge','International Mins','International calls','International charge','Custserve calls','Churn']"
      ],
      "execution_count": 0,
      "outputs": []
    },
    {
      "cell_type": "code",
      "metadata": {
        "id": "sFbbWdHAEhHe",
        "colab_type": "code",
        "outputId": "5cf33c10-2ebd-4b87-ab2b-ca00b5117f31",
        "colab": {
          "base_uri": "https://localhost:8080/",
          "height": 326
        }
      },
      "source": [
        "data.head()"
      ],
      "execution_count": 38,
      "outputs": [
        {
          "output_type": "execute_result",
          "data": {
            "text/html": [
              "<div>\n",
              "<style scoped>\n",
              "    .dataframe tbody tr th:only-of-type {\n",
              "        vertical-align: middle;\n",
              "    }\n",
              "\n",
              "    .dataframe tbody tr th {\n",
              "        vertical-align: top;\n",
              "    }\n",
              "\n",
              "    .dataframe thead th {\n",
              "        text-align: right;\n",
              "    }\n",
              "</style>\n",
              "<table border=\"1\" class=\"dataframe\">\n",
              "  <thead>\n",
              "    <tr style=\"text-align: right;\">\n",
              "      <th></th>\n",
              "      <th>State</th>\n",
              "      <th>Account Length</th>\n",
              "      <th>Area code</th>\n",
              "      <th>Phone</th>\n",
              "      <th>International Plan</th>\n",
              "      <th>Vmail plan</th>\n",
              "      <th>Vmail Message</th>\n",
              "      <th>Day mins</th>\n",
              "      <th>Day calls</th>\n",
              "      <th>Day charge</th>\n",
              "      <th>Eve mins</th>\n",
              "      <th>Eve calls</th>\n",
              "      <th>Eve charge</th>\n",
              "      <th>Night mins</th>\n",
              "      <th>Night calls</th>\n",
              "      <th>Night charge</th>\n",
              "      <th>International mins</th>\n",
              "      <th>International calls</th>\n",
              "      <th>International charge</th>\n",
              "      <th>Custserve calls</th>\n",
              "      <th>Churn</th>\n",
              "    </tr>\n",
              "  </thead>\n",
              "  <tbody>\n",
              "    <tr>\n",
              "      <th>0</th>\n",
              "      <td>KS</td>\n",
              "      <td>128</td>\n",
              "      <td>415</td>\n",
              "      <td>382-4657</td>\n",
              "      <td>no</td>\n",
              "      <td>yes</td>\n",
              "      <td>25</td>\n",
              "      <td>265.1</td>\n",
              "      <td>110</td>\n",
              "      <td>45.07</td>\n",
              "      <td>197.4</td>\n",
              "      <td>99</td>\n",
              "      <td>16.78</td>\n",
              "      <td>244.7</td>\n",
              "      <td>91</td>\n",
              "      <td>11.01</td>\n",
              "      <td>10.0</td>\n",
              "      <td>3</td>\n",
              "      <td>2.70</td>\n",
              "      <td>1</td>\n",
              "      <td>False.</td>\n",
              "    </tr>\n",
              "    <tr>\n",
              "      <th>1</th>\n",
              "      <td>OH</td>\n",
              "      <td>107</td>\n",
              "      <td>415</td>\n",
              "      <td>371-7191</td>\n",
              "      <td>no</td>\n",
              "      <td>yes</td>\n",
              "      <td>26</td>\n",
              "      <td>161.6</td>\n",
              "      <td>123</td>\n",
              "      <td>27.47</td>\n",
              "      <td>195.5</td>\n",
              "      <td>103</td>\n",
              "      <td>16.62</td>\n",
              "      <td>254.4</td>\n",
              "      <td>103</td>\n",
              "      <td>11.45</td>\n",
              "      <td>13.7</td>\n",
              "      <td>3</td>\n",
              "      <td>3.70</td>\n",
              "      <td>1</td>\n",
              "      <td>False.</td>\n",
              "    </tr>\n",
              "    <tr>\n",
              "      <th>2</th>\n",
              "      <td>NJ</td>\n",
              "      <td>137</td>\n",
              "      <td>415</td>\n",
              "      <td>358-1921</td>\n",
              "      <td>no</td>\n",
              "      <td>no</td>\n",
              "      <td>0</td>\n",
              "      <td>243.4</td>\n",
              "      <td>114</td>\n",
              "      <td>41.38</td>\n",
              "      <td>121.2</td>\n",
              "      <td>110</td>\n",
              "      <td>10.30</td>\n",
              "      <td>162.6</td>\n",
              "      <td>104</td>\n",
              "      <td>7.32</td>\n",
              "      <td>12.2</td>\n",
              "      <td>5</td>\n",
              "      <td>3.29</td>\n",
              "      <td>0</td>\n",
              "      <td>False.</td>\n",
              "    </tr>\n",
              "    <tr>\n",
              "      <th>3</th>\n",
              "      <td>OH</td>\n",
              "      <td>84</td>\n",
              "      <td>408</td>\n",
              "      <td>375-9999</td>\n",
              "      <td>yes</td>\n",
              "      <td>no</td>\n",
              "      <td>0</td>\n",
              "      <td>299.4</td>\n",
              "      <td>71</td>\n",
              "      <td>50.90</td>\n",
              "      <td>61.9</td>\n",
              "      <td>88</td>\n",
              "      <td>5.26</td>\n",
              "      <td>196.9</td>\n",
              "      <td>89</td>\n",
              "      <td>8.86</td>\n",
              "      <td>6.6</td>\n",
              "      <td>7</td>\n",
              "      <td>1.78</td>\n",
              "      <td>2</td>\n",
              "      <td>False.</td>\n",
              "    </tr>\n",
              "    <tr>\n",
              "      <th>4</th>\n",
              "      <td>OK</td>\n",
              "      <td>75</td>\n",
              "      <td>415</td>\n",
              "      <td>330-6626</td>\n",
              "      <td>yes</td>\n",
              "      <td>no</td>\n",
              "      <td>0</td>\n",
              "      <td>166.7</td>\n",
              "      <td>113</td>\n",
              "      <td>28.34</td>\n",
              "      <td>148.3</td>\n",
              "      <td>122</td>\n",
              "      <td>12.61</td>\n",
              "      <td>186.9</td>\n",
              "      <td>121</td>\n",
              "      <td>8.41</td>\n",
              "      <td>10.1</td>\n",
              "      <td>3</td>\n",
              "      <td>2.73</td>\n",
              "      <td>3</td>\n",
              "      <td>False.</td>\n",
              "    </tr>\n",
              "  </tbody>\n",
              "</table>\n",
              "</div>"
            ],
            "text/plain": [
              "  State  Account Length  ...  Custserve calls     Churn\n",
              "0    KS             128  ...                 1   False.\n",
              "1    OH             107  ...                 1   False.\n",
              "2    NJ             137  ...                 0   False.\n",
              "3    OH              84  ...                 2   False.\n",
              "4    OK              75  ...                 3   False.\n",
              "\n",
              "[5 rows x 21 columns]"
            ]
          },
          "metadata": {
            "tags": []
          },
          "execution_count": 38
        }
      ]
    },
    {
      "cell_type": "code",
      "metadata": {
        "id": "k3RzFz-YEcZ-",
        "colab_type": "code",
        "outputId": "6a56ebf9-aaaa-4644-eefa-a944016d0daf",
        "colab": {
          "base_uri": "https://localhost:8080/",
          "height": 459
        }
      },
      "source": [
        "#information about data\n",
        "data.info()"
      ],
      "execution_count": 39,
      "outputs": [
        {
          "output_type": "stream",
          "text": [
            "<class 'pandas.core.frame.DataFrame'>\n",
            "RangeIndex: 4617 entries, 0 to 4616\n",
            "Data columns (total 21 columns):\n",
            "State                   4617 non-null object\n",
            "Account Length          4617 non-null int64\n",
            "Area code               4617 non-null int64\n",
            "Phone                   4617 non-null object\n",
            "International Plan      4617 non-null object\n",
            "Vmail plan              4617 non-null object\n",
            "Vmail Message           4617 non-null int64\n",
            "Day mins                4617 non-null float64\n",
            "Day calls               4617 non-null int64\n",
            "Day charge              4617 non-null float64\n",
            "Eve mins                4617 non-null float64\n",
            "Eve calls               4617 non-null int64\n",
            "Eve charge              4617 non-null float64\n",
            "Night mins              4617 non-null float64\n",
            "Night calls             4617 non-null int64\n",
            "Night charge            4617 non-null float64\n",
            "International mins      4617 non-null float64\n",
            "International calls     4617 non-null int64\n",
            "International charge    4617 non-null float64\n",
            "Custserve calls         4617 non-null int64\n",
            "Churn                   4617 non-null object\n",
            "dtypes: float64(8), int64(8), object(5)\n",
            "memory usage: 757.6+ KB\n"
          ],
          "name": "stdout"
        }
      ]
    },
    {
      "cell_type": "code",
      "metadata": {
        "id": "6zbWG4r8xKz7",
        "colab_type": "code",
        "colab": {}
      },
      "source": [
        "#Adding new column and changing to binary\n",
        "data['Churn-Flag']=(data['Churn']== True).astype(int)"
      ],
      "execution_count": 0,
      "outputs": []
    },
    {
      "cell_type": "code",
      "metadata": {
        "id": "RQMkru9EBN5O",
        "colab_type": "code",
        "outputId": "20fa4f4f-ebc3-4ee8-bf3b-31cb9d9b94a9",
        "colab": {
          "base_uri": "https://localhost:8080/",
          "height": 182
        }
      },
      "source": [
        "data.head(2)"
      ],
      "execution_count": 41,
      "outputs": [
        {
          "output_type": "execute_result",
          "data": {
            "text/html": [
              "<div>\n",
              "<style scoped>\n",
              "    .dataframe tbody tr th:only-of-type {\n",
              "        vertical-align: middle;\n",
              "    }\n",
              "\n",
              "    .dataframe tbody tr th {\n",
              "        vertical-align: top;\n",
              "    }\n",
              "\n",
              "    .dataframe thead th {\n",
              "        text-align: right;\n",
              "    }\n",
              "</style>\n",
              "<table border=\"1\" class=\"dataframe\">\n",
              "  <thead>\n",
              "    <tr style=\"text-align: right;\">\n",
              "      <th></th>\n",
              "      <th>State</th>\n",
              "      <th>Account Length</th>\n",
              "      <th>Area code</th>\n",
              "      <th>Phone</th>\n",
              "      <th>International Plan</th>\n",
              "      <th>Vmail plan</th>\n",
              "      <th>Vmail Message</th>\n",
              "      <th>Day mins</th>\n",
              "      <th>Day calls</th>\n",
              "      <th>Day charge</th>\n",
              "      <th>Eve mins</th>\n",
              "      <th>Eve calls</th>\n",
              "      <th>Eve charge</th>\n",
              "      <th>Night mins</th>\n",
              "      <th>Night calls</th>\n",
              "      <th>Night charge</th>\n",
              "      <th>International mins</th>\n",
              "      <th>International calls</th>\n",
              "      <th>International charge</th>\n",
              "      <th>Custserve calls</th>\n",
              "      <th>Churn</th>\n",
              "      <th>Churn-Flag</th>\n",
              "    </tr>\n",
              "  </thead>\n",
              "  <tbody>\n",
              "    <tr>\n",
              "      <th>0</th>\n",
              "      <td>KS</td>\n",
              "      <td>128</td>\n",
              "      <td>415</td>\n",
              "      <td>382-4657</td>\n",
              "      <td>no</td>\n",
              "      <td>yes</td>\n",
              "      <td>25</td>\n",
              "      <td>265.1</td>\n",
              "      <td>110</td>\n",
              "      <td>45.07</td>\n",
              "      <td>197.4</td>\n",
              "      <td>99</td>\n",
              "      <td>16.78</td>\n",
              "      <td>244.7</td>\n",
              "      <td>91</td>\n",
              "      <td>11.01</td>\n",
              "      <td>10.0</td>\n",
              "      <td>3</td>\n",
              "      <td>2.7</td>\n",
              "      <td>1</td>\n",
              "      <td>False.</td>\n",
              "      <td>0</td>\n",
              "    </tr>\n",
              "    <tr>\n",
              "      <th>1</th>\n",
              "      <td>OH</td>\n",
              "      <td>107</td>\n",
              "      <td>415</td>\n",
              "      <td>371-7191</td>\n",
              "      <td>no</td>\n",
              "      <td>yes</td>\n",
              "      <td>26</td>\n",
              "      <td>161.6</td>\n",
              "      <td>123</td>\n",
              "      <td>27.47</td>\n",
              "      <td>195.5</td>\n",
              "      <td>103</td>\n",
              "      <td>16.62</td>\n",
              "      <td>254.4</td>\n",
              "      <td>103</td>\n",
              "      <td>11.45</td>\n",
              "      <td>13.7</td>\n",
              "      <td>3</td>\n",
              "      <td>3.7</td>\n",
              "      <td>1</td>\n",
              "      <td>False.</td>\n",
              "      <td>0</td>\n",
              "    </tr>\n",
              "  </tbody>\n",
              "</table>\n",
              "</div>"
            ],
            "text/plain": [
              "  State  Account Length  Area code  ... Custserve calls     Churn Churn-Flag\n",
              "0    KS             128        415  ...                1   False.          0\n",
              "1    OH             107        415  ...                1   False.          0\n",
              "\n",
              "[2 rows x 22 columns]"
            ]
          },
          "metadata": {
            "tags": []
          },
          "execution_count": 41
        }
      ]
    },
    {
      "cell_type": "code",
      "metadata": {
        "id": "TTNxxU1-7fAj",
        "colab_type": "code",
        "colab": {}
      },
      "source": [
        "#import required libraries\n",
        "from sklearn.model_selection import train_test_split\n",
        "from sklearn.preprocessing import StandardScaler"
      ],
      "execution_count": 0,
      "outputs": []
    },
    {
      "cell_type": "code",
      "metadata": {
        "id": "3RKFvdn37q0L",
        "colab_type": "code",
        "colab": {}
      },
      "source": [
        "#slicing X and y\n",
        "X=data.iloc[:,4:-2]\n",
        "y=data.iloc[:,-1]"
      ],
      "execution_count": 0,
      "outputs": []
    },
    {
      "cell_type": "code",
      "metadata": {
        "id": "D1xsfQA172Uw",
        "colab_type": "code",
        "colab": {}
      },
      "source": [
        "X=pd.get_dummies(X)"
      ],
      "execution_count": 0,
      "outputs": []
    },
    {
      "cell_type": "code",
      "metadata": {
        "id": "gX6UH42w8D4M",
        "colab_type": "code",
        "colab": {}
      },
      "source": [
        "#X.head()"
      ],
      "execution_count": 0,
      "outputs": []
    },
    {
      "cell_type": "code",
      "metadata": {
        "id": "3JytbFKh8FK8",
        "colab_type": "code",
        "colab": {}
      },
      "source": [
        "y=pd.get_dummies(y)"
      ],
      "execution_count": 0,
      "outputs": []
    },
    {
      "cell_type": "code",
      "metadata": {
        "id": "zQXRDrEm8Tto",
        "colab_type": "code",
        "outputId": "3dbcd0b8-7a02-47e7-fac6-52dcb9054e92",
        "colab": {
          "base_uri": "https://localhost:8080/",
          "height": 204
        }
      },
      "source": [
        "y.head()"
      ],
      "execution_count": 47,
      "outputs": [
        {
          "output_type": "execute_result",
          "data": {
            "text/html": [
              "<div>\n",
              "<style scoped>\n",
              "    .dataframe tbody tr th:only-of-type {\n",
              "        vertical-align: middle;\n",
              "    }\n",
              "\n",
              "    .dataframe tbody tr th {\n",
              "        vertical-align: top;\n",
              "    }\n",
              "\n",
              "    .dataframe thead th {\n",
              "        text-align: right;\n",
              "    }\n",
              "</style>\n",
              "<table border=\"1\" class=\"dataframe\">\n",
              "  <thead>\n",
              "    <tr style=\"text-align: right;\">\n",
              "      <th></th>\n",
              "      <th>0</th>\n",
              "    </tr>\n",
              "  </thead>\n",
              "  <tbody>\n",
              "    <tr>\n",
              "      <th>0</th>\n",
              "      <td>1</td>\n",
              "    </tr>\n",
              "    <tr>\n",
              "      <th>1</th>\n",
              "      <td>1</td>\n",
              "    </tr>\n",
              "    <tr>\n",
              "      <th>2</th>\n",
              "      <td>1</td>\n",
              "    </tr>\n",
              "    <tr>\n",
              "      <th>3</th>\n",
              "      <td>1</td>\n",
              "    </tr>\n",
              "    <tr>\n",
              "      <th>4</th>\n",
              "      <td>1</td>\n",
              "    </tr>\n",
              "  </tbody>\n",
              "</table>\n",
              "</div>"
            ],
            "text/plain": [
              "   0\n",
              "0  1\n",
              "1  1\n",
              "2  1\n",
              "3  1\n",
              "4  1"
            ]
          },
          "metadata": {
            "tags": []
          },
          "execution_count": 47
        }
      ]
    },
    {
      "cell_type": "code",
      "metadata": {
        "id": "rrG5wjk28V5I",
        "colab_type": "code",
        "colab": {}
      },
      "source": [
        "#Model\n",
        "clf = Sequential()"
      ],
      "execution_count": 0,
      "outputs": []
    },
    {
      "cell_type": "code",
      "metadata": {
        "id": "j0vFaLHi35ew",
        "colab_type": "code",
        "colab": {}
      },
      "source": [
        "#importing libraries\n",
        "from sklearn.preprocessing import StandardScaler\n",
        "from sklearn.model_selection import train_test_split"
      ],
      "execution_count": 0,
      "outputs": []
    },
    {
      "cell_type": "code",
      "metadata": {
        "id": "oWiNuCYH5LJo",
        "colab_type": "code",
        "colab": {}
      },
      "source": [
        "#training and test\n",
        "X_train,X_test,y_train,y_test=train_test_split(X,y, test_size=0.2)"
      ],
      "execution_count": 0,
      "outputs": []
    },
    {
      "cell_type": "code",
      "metadata": {
        "id": "t-azwU5oGy4Y",
        "colab_type": "code",
        "colab": {}
      },
      "source": [
        "sc = StandardScaler()"
      ],
      "execution_count": 0,
      "outputs": []
    },
    {
      "cell_type": "code",
      "metadata": {
        "id": "awTm1TTSDiaq",
        "colab_type": "code",
        "colab": {}
      },
      "source": [
        "#Transforming\n",
        "X_train=sc.fit_transform(X_train)\n",
        "X_test=sc.transform(X_test)"
      ],
      "execution_count": 0,
      "outputs": []
    },
    {
      "cell_type": "code",
      "metadata": {
        "id": "fpBv0w6WDTFH",
        "colab_type": "code",
        "colab": {}
      },
      "source": [
        "#Hidden layers , input, units\n",
        "clf.add(Dense(units=12, activation='relu', input_dim=18))\n",
        "clf.add(Dense(units=12, activation='relu'))\n",
        "clf.add(Dense(units= 1, activation='sigmoid'))"
      ],
      "execution_count": 0,
      "outputs": []
    },
    {
      "cell_type": "code",
      "metadata": {
        "id": "cZHVyrs3DG0T",
        "colab_type": "code",
        "colab": {}
      },
      "source": [
        "#compiling\n",
        "clf.compile(optimizer='adam', loss='binary_crossentropy', metrics=['accuracy'])"
      ],
      "execution_count": 0,
      "outputs": []
    },
    {
      "cell_type": "code",
      "metadata": {
        "id": "mEWDgm-oDANd",
        "colab_type": "code",
        "colab": {
          "base_uri": "https://localhost:8080/",
          "height": 3434
        },
        "outputId": "18d069d7-d0d9-4edf-d01a-8a5286df47a1"
      },
      "source": [
        "#Fit the model\n",
        "m=clf.fit(X_train,y_train, batch_size=32, epochs=100, validation_split=0.1)\n"
      ],
      "execution_count": 55,
      "outputs": [
        {
          "output_type": "stream",
          "text": [
            "Train on 3323 samples, validate on 370 samples\n",
            "Epoch 1/100\n",
            "3323/3323 [==============================] - 1s 169us/step - loss: 0.3422 - acc: 0.9795 - val_loss: 0.1248 - val_acc: 1.0000\n",
            "Epoch 2/100\n",
            "3323/3323 [==============================] - 0s 103us/step - loss: 0.0466 - acc: 1.0000 - val_loss: 0.0187 - val_acc: 1.0000\n",
            "Epoch 3/100\n",
            "3323/3323 [==============================] - 0s 105us/step - loss: 0.0098 - acc: 1.0000 - val_loss: 0.0066 - val_acc: 1.0000\n",
            "Epoch 4/100\n",
            "3323/3323 [==============================] - 0s 99us/step - loss: 0.0040 - acc: 1.0000 - val_loss: 0.0033 - val_acc: 1.0000\n",
            "Epoch 5/100\n",
            "3323/3323 [==============================] - 0s 102us/step - loss: 0.0022 - acc: 1.0000 - val_loss: 0.0020 - val_acc: 1.0000\n",
            "Epoch 6/100\n",
            "3323/3323 [==============================] - 0s 97us/step - loss: 0.0014 - acc: 1.0000 - val_loss: 0.0013 - val_acc: 1.0000\n",
            "Epoch 7/100\n",
            "3323/3323 [==============================] - 0s 98us/step - loss: 9.3375e-04 - acc: 1.0000 - val_loss: 9.4944e-04 - val_acc: 1.0000\n",
            "Epoch 8/100\n",
            "3323/3323 [==============================] - 0s 108us/step - loss: 6.7781e-04 - acc: 1.0000 - val_loss: 7.1702e-04 - val_acc: 1.0000\n",
            "Epoch 9/100\n",
            "3323/3323 [==============================] - 0s 96us/step - loss: 5.1340e-04 - acc: 1.0000 - val_loss: 5.6091e-04 - val_acc: 1.0000\n",
            "Epoch 10/100\n",
            "3323/3323 [==============================] - 0s 101us/step - loss: 4.0144e-04 - acc: 1.0000 - val_loss: 4.5046e-04 - val_acc: 1.0000\n",
            "Epoch 11/100\n",
            "3323/3323 [==============================] - 0s 104us/step - loss: 3.2160e-04 - acc: 1.0000 - val_loss: 3.6925e-04 - val_acc: 1.0000\n",
            "Epoch 12/100\n",
            "3323/3323 [==============================] - 0s 109us/step - loss: 2.6272e-04 - acc: 1.0000 - val_loss: 3.0855e-04 - val_acc: 1.0000\n",
            "Epoch 13/100\n",
            "3323/3323 [==============================] - 0s 111us/step - loss: 2.1820e-04 - acc: 1.0000 - val_loss: 2.6076e-04 - val_acc: 1.0000\n",
            "Epoch 14/100\n",
            "3323/3323 [==============================] - 0s 113us/step - loss: 1.8353e-04 - acc: 1.0000 - val_loss: 2.2333e-04 - val_acc: 1.0000\n",
            "Epoch 15/100\n",
            "3323/3323 [==============================] - 0s 110us/step - loss: 1.5620e-04 - acc: 1.0000 - val_loss: 1.9293e-04 - val_acc: 1.0000\n",
            "Epoch 16/100\n",
            "3323/3323 [==============================] - 0s 110us/step - loss: 1.3429e-04 - acc: 1.0000 - val_loss: 1.6783e-04 - val_acc: 1.0000\n",
            "Epoch 17/100\n",
            "3323/3323 [==============================] - 0s 116us/step - loss: 1.1629e-04 - acc: 1.0000 - val_loss: 1.4764e-04 - val_acc: 1.0000\n",
            "Epoch 18/100\n",
            "3323/3323 [==============================] - 0s 109us/step - loss: 1.0154e-04 - acc: 1.0000 - val_loss: 1.3039e-04 - val_acc: 1.0000\n",
            "Epoch 19/100\n",
            "3323/3323 [==============================] - 0s 110us/step - loss: 8.9222e-05 - acc: 1.0000 - val_loss: 1.1577e-04 - val_acc: 1.0000\n",
            "Epoch 20/100\n",
            "3323/3323 [==============================] - 0s 111us/step - loss: 7.8818e-05 - acc: 1.0000 - val_loss: 1.0357e-04 - val_acc: 1.0000\n",
            "Epoch 21/100\n",
            "3323/3323 [==============================] - 0s 110us/step - loss: 6.9993e-05 - acc: 1.0000 - val_loss: 9.2900e-05 - val_acc: 1.0000\n",
            "Epoch 22/100\n",
            "3323/3323 [==============================] - 0s 112us/step - loss: 6.2441e-05 - acc: 1.0000 - val_loss: 8.3857e-05 - val_acc: 1.0000\n",
            "Epoch 23/100\n",
            "3323/3323 [==============================] - 0s 109us/step - loss: 5.5941e-05 - acc: 1.0000 - val_loss: 7.5705e-05 - val_acc: 1.0000\n",
            "Epoch 24/100\n",
            "3323/3323 [==============================] - 0s 111us/step - loss: 5.0300e-05 - acc: 1.0000 - val_loss: 6.8856e-05 - val_acc: 1.0000\n",
            "Epoch 25/100\n",
            "3323/3323 [==============================] - 0s 113us/step - loss: 4.5392e-05 - acc: 1.0000 - val_loss: 6.2675e-05 - val_acc: 1.0000\n",
            "Epoch 26/100\n",
            "3323/3323 [==============================] - 0s 112us/step - loss: 4.1088e-05 - acc: 1.0000 - val_loss: 5.7196e-05 - val_acc: 1.0000\n",
            "Epoch 27/100\n",
            "3323/3323 [==============================] - 0s 111us/step - loss: 3.7281e-05 - acc: 1.0000 - val_loss: 5.2372e-05 - val_acc: 1.0000\n",
            "Epoch 28/100\n",
            "3323/3323 [==============================] - 0s 112us/step - loss: 3.3922e-05 - acc: 1.0000 - val_loss: 4.8120e-05 - val_acc: 1.0000\n",
            "Epoch 29/100\n",
            "3323/3323 [==============================] - 0s 109us/step - loss: 3.0949e-05 - acc: 1.0000 - val_loss: 4.4162e-05 - val_acc: 1.0000\n",
            "Epoch 30/100\n",
            "3323/3323 [==============================] - 0s 110us/step - loss: 2.8280e-05 - acc: 1.0000 - val_loss: 4.0727e-05 - val_acc: 1.0000\n",
            "Epoch 31/100\n",
            "3323/3323 [==============================] - 0s 114us/step - loss: 2.5896e-05 - acc: 1.0000 - val_loss: 3.7535e-05 - val_acc: 1.0000\n",
            "Epoch 32/100\n",
            "3323/3323 [==============================] - 0s 110us/step - loss: 2.3754e-05 - acc: 1.0000 - val_loss: 3.4758e-05 - val_acc: 1.0000\n",
            "Epoch 33/100\n",
            "3323/3323 [==============================] - 0s 113us/step - loss: 2.1835e-05 - acc: 1.0000 - val_loss: 3.2106e-05 - val_acc: 1.0000\n",
            "Epoch 34/100\n",
            "3323/3323 [==============================] - 0s 108us/step - loss: 2.0090e-05 - acc: 1.0000 - val_loss: 2.9795e-05 - val_acc: 1.0000\n",
            "Epoch 35/100\n",
            "3323/3323 [==============================] - 0s 110us/step - loss: 1.8519e-05 - acc: 1.0000 - val_loss: 2.7659e-05 - val_acc: 1.0000\n",
            "Epoch 36/100\n",
            "3323/3323 [==============================] - 0s 111us/step - loss: 1.7088e-05 - acc: 1.0000 - val_loss: 2.5699e-05 - val_acc: 1.0000\n",
            "Epoch 37/100\n",
            "3323/3323 [==============================] - 0s 109us/step - loss: 1.5783e-05 - acc: 1.0000 - val_loss: 2.3927e-05 - val_acc: 1.0000\n",
            "Epoch 38/100\n",
            "3323/3323 [==============================] - 0s 121us/step - loss: 1.4601e-05 - acc: 1.0000 - val_loss: 2.2253e-05 - val_acc: 1.0000\n",
            "Epoch 39/100\n",
            "3323/3323 [==============================] - 0s 98us/step - loss: 1.3514e-05 - acc: 1.0000 - val_loss: 2.0747e-05 - val_acc: 1.0000\n",
            "Epoch 40/100\n",
            "3323/3323 [==============================] - 0s 95us/step - loss: 1.2518e-05 - acc: 1.0000 - val_loss: 1.9310e-05 - val_acc: 1.0000\n",
            "Epoch 41/100\n",
            "3323/3323 [==============================] - 0s 96us/step - loss: 1.1610e-05 - acc: 1.0000 - val_loss: 1.8008e-05 - val_acc: 1.0000\n",
            "Epoch 42/100\n",
            "3323/3323 [==============================] - 0s 99us/step - loss: 1.0776e-05 - acc: 1.0000 - val_loss: 1.6780e-05 - val_acc: 1.0000\n",
            "Epoch 43/100\n",
            "3323/3323 [==============================] - 0s 95us/step - loss: 1.0008e-05 - acc: 1.0000 - val_loss: 1.5692e-05 - val_acc: 1.0000\n",
            "Epoch 44/100\n",
            "3323/3323 [==============================] - 0s 97us/step - loss: 9.3043e-06 - acc: 1.0000 - val_loss: 1.4670e-05 - val_acc: 1.0000\n",
            "Epoch 45/100\n",
            "3323/3323 [==============================] - 0s 101us/step - loss: 8.6552e-06 - acc: 1.0000 - val_loss: 1.3722e-05 - val_acc: 1.0000\n",
            "Epoch 46/100\n",
            "3323/3323 [==============================] - 0s 96us/step - loss: 8.0584e-06 - acc: 1.0000 - val_loss: 1.2848e-05 - val_acc: 1.0000\n",
            "Epoch 47/100\n",
            "3323/3323 [==============================] - 0s 99us/step - loss: 7.5069e-06 - acc: 1.0000 - val_loss: 1.2021e-05 - val_acc: 1.0000\n",
            "Epoch 48/100\n",
            "3323/3323 [==============================] - 0s 101us/step - loss: 6.9976e-06 - acc: 1.0000 - val_loss: 1.1280e-05 - val_acc: 1.0000\n",
            "Epoch 49/100\n",
            "3323/3323 [==============================] - 0s 96us/step - loss: 6.5260e-06 - acc: 1.0000 - val_loss: 1.0558e-05 - val_acc: 1.0000\n",
            "Epoch 50/100\n",
            "3323/3323 [==============================] - 0s 99us/step - loss: 6.0880e-06 - acc: 1.0000 - val_loss: 9.8977e-06 - val_acc: 1.0000\n",
            "Epoch 51/100\n",
            "3323/3323 [==============================] - 0s 96us/step - loss: 5.6856e-06 - acc: 1.0000 - val_loss: 9.2814e-06 - val_acc: 1.0000\n",
            "Epoch 52/100\n",
            "3323/3323 [==============================] - 0s 103us/step - loss: 5.3114e-06 - acc: 1.0000 - val_loss: 8.7029e-06 - val_acc: 1.0000\n",
            "Epoch 53/100\n",
            "3323/3323 [==============================] - 0s 100us/step - loss: 4.9617e-06 - acc: 1.0000 - val_loss: 8.1913e-06 - val_acc: 1.0000\n",
            "Epoch 54/100\n",
            "3323/3323 [==============================] - 0s 97us/step - loss: 4.6429e-06 - acc: 1.0000 - val_loss: 7.6815e-06 - val_acc: 1.0000\n",
            "Epoch 55/100\n",
            "3323/3323 [==============================] - 0s 101us/step - loss: 4.3417e-06 - acc: 1.0000 - val_loss: 7.2208e-06 - val_acc: 1.0000\n",
            "Epoch 56/100\n",
            "3323/3323 [==============================] - 0s 96us/step - loss: 4.0642e-06 - acc: 1.0000 - val_loss: 6.7858e-06 - val_acc: 1.0000\n",
            "Epoch 57/100\n",
            "3323/3323 [==============================] - 0s 95us/step - loss: 3.8048e-06 - acc: 1.0000 - val_loss: 6.3898e-06 - val_acc: 1.0000\n",
            "Epoch 58/100\n",
            "3323/3323 [==============================] - 0s 98us/step - loss: 3.5652e-06 - acc: 1.0000 - val_loss: 6.0116e-06 - val_acc: 1.0000\n",
            "Epoch 59/100\n",
            "3323/3323 [==============================] - 0s 97us/step - loss: 3.3411e-06 - acc: 1.0000 - val_loss: 5.6605e-06 - val_acc: 1.0000\n",
            "Epoch 60/100\n",
            "3323/3323 [==============================] - 0s 95us/step - loss: 3.1321e-06 - acc: 1.0000 - val_loss: 5.3270e-06 - val_acc: 1.0000\n",
            "Epoch 61/100\n",
            "3323/3323 [==============================] - 0s 104us/step - loss: 2.9372e-06 - acc: 1.0000 - val_loss: 5.0291e-06 - val_acc: 1.0000\n",
            "Epoch 62/100\n",
            "3323/3323 [==============================] - 0s 94us/step - loss: 2.7548e-06 - acc: 1.0000 - val_loss: 4.7307e-06 - val_acc: 1.0000\n",
            "Epoch 63/100\n",
            "3323/3323 [==============================] - 0s 94us/step - loss: 2.5842e-06 - acc: 1.0000 - val_loss: 4.4620e-06 - val_acc: 1.0000\n",
            "Epoch 64/100\n",
            "3323/3323 [==============================] - 0s 96us/step - loss: 2.4260e-06 - acc: 1.0000 - val_loss: 4.2065e-06 - val_acc: 1.0000\n",
            "Epoch 65/100\n",
            "3323/3323 [==============================] - 0s 95us/step - loss: 2.2782e-06 - acc: 1.0000 - val_loss: 3.9682e-06 - val_acc: 1.0000\n",
            "Epoch 66/100\n",
            "3323/3323 [==============================] - 0s 95us/step - loss: 2.1400e-06 - acc: 1.0000 - val_loss: 3.7431e-06 - val_acc: 1.0000\n",
            "Epoch 67/100\n",
            "3323/3323 [==============================] - 0s 100us/step - loss: 2.0098e-06 - acc: 1.0000 - val_loss: 3.5349e-06 - val_acc: 1.0000\n",
            "Epoch 68/100\n",
            "3323/3323 [==============================] - 0s 97us/step - loss: 1.8893e-06 - acc: 1.0000 - val_loss: 3.3381e-06 - val_acc: 1.0000\n",
            "Epoch 69/100\n",
            "3323/3323 [==============================] - 0s 97us/step - loss: 1.7769e-06 - acc: 1.0000 - val_loss: 3.1492e-06 - val_acc: 1.0000\n",
            "Epoch 70/100\n",
            "3323/3323 [==============================] - 0s 104us/step - loss: 1.6710e-06 - acc: 1.0000 - val_loss: 2.9704e-06 - val_acc: 1.0000\n",
            "Epoch 71/100\n",
            "3323/3323 [==============================] - 0s 96us/step - loss: 1.5712e-06 - acc: 1.0000 - val_loss: 2.8125e-06 - val_acc: 1.0000\n",
            "Epoch 72/100\n",
            "3323/3323 [==============================] - 0s 95us/step - loss: 1.4796e-06 - acc: 1.0000 - val_loss: 2.6574e-06 - val_acc: 1.0000\n",
            "Epoch 73/100\n",
            "3323/3323 [==============================] - 0s 95us/step - loss: 1.3932e-06 - acc: 1.0000 - val_loss: 2.5143e-06 - val_acc: 1.0000\n",
            "Epoch 74/100\n",
            "3323/3323 [==============================] - 0s 101us/step - loss: 1.3120e-06 - acc: 1.0000 - val_loss: 2.3759e-06 - val_acc: 1.0000\n",
            "Epoch 75/100\n",
            "3323/3323 [==============================] - 0s 95us/step - loss: 1.2362e-06 - acc: 1.0000 - val_loss: 2.2453e-06 - val_acc: 1.0000\n",
            "Epoch 76/100\n",
            "3323/3323 [==============================] - 0s 94us/step - loss: 1.1644e-06 - acc: 1.0000 - val_loss: 2.1239e-06 - val_acc: 1.0000\n",
            "Epoch 77/100\n",
            "3323/3323 [==============================] - 0s 97us/step - loss: 1.0969e-06 - acc: 1.0000 - val_loss: 2.0110e-06 - val_acc: 1.0000\n",
            "Epoch 78/100\n",
            "3323/3323 [==============================] - 0s 94us/step - loss: 1.0347e-06 - acc: 1.0000 - val_loss: 1.9019e-06 - val_acc: 1.0000\n",
            "Epoch 79/100\n",
            "3323/3323 [==============================] - 0s 95us/step - loss: 9.7657e-07 - acc: 1.0000 - val_loss: 1.8006e-06 - val_acc: 1.0000\n",
            "Epoch 80/100\n",
            "3323/3323 [==============================] - 0s 100us/step - loss: 9.2266e-07 - acc: 1.0000 - val_loss: 1.7077e-06 - val_acc: 1.0000\n",
            "Epoch 81/100\n",
            "3323/3323 [==============================] - 0s 94us/step - loss: 8.7065e-07 - acc: 1.0000 - val_loss: 1.6189e-06 - val_acc: 1.0000\n",
            "Epoch 82/100\n",
            "3323/3323 [==============================] - 0s 93us/step - loss: 8.2290e-07 - acc: 1.0000 - val_loss: 1.5325e-06 - val_acc: 1.0000\n",
            "Epoch 83/100\n",
            "3323/3323 [==============================] - 0s 99us/step - loss: 7.7762e-07 - acc: 1.0000 - val_loss: 1.4523e-06 - val_acc: 1.0000\n",
            "Epoch 84/100\n",
            "3323/3323 [==============================] - 0s 95us/step - loss: 7.3495e-07 - acc: 1.0000 - val_loss: 1.3766e-06 - val_acc: 1.0000\n",
            "Epoch 85/100\n",
            "3323/3323 [==============================] - 0s 97us/step - loss: 6.9432e-07 - acc: 1.0000 - val_loss: 1.3060e-06 - val_acc: 1.0000\n",
            "Epoch 86/100\n",
            "3323/3323 [==============================] - 0s 100us/step - loss: 6.5727e-07 - acc: 1.0000 - val_loss: 1.2338e-06 - val_acc: 1.0000\n",
            "Epoch 87/100\n",
            "3323/3323 [==============================] - 0s 95us/step - loss: 6.2261e-07 - acc: 1.0000 - val_loss: 1.1701e-06 - val_acc: 1.0000\n",
            "Epoch 88/100\n",
            "3323/3323 [==============================] - 0s 96us/step - loss: 5.8975e-07 - acc: 1.0000 - val_loss: 1.1158e-06 - val_acc: 1.0000\n",
            "Epoch 89/100\n",
            "3323/3323 [==============================] - 0s 101us/step - loss: 5.5931e-07 - acc: 1.0000 - val_loss: 1.0595e-06 - val_acc: 1.0000\n",
            "Epoch 90/100\n",
            "3323/3323 [==============================] - 0s 96us/step - loss: 5.3036e-07 - acc: 1.0000 - val_loss: 1.0059e-06 - val_acc: 1.0000\n",
            "Epoch 91/100\n",
            "3323/3323 [==============================] - 0s 95us/step - loss: 5.0373e-07 - acc: 1.0000 - val_loss: 9.5821e-07 - val_acc: 1.0000\n",
            "Epoch 92/100\n",
            "3323/3323 [==============================] - 0s 94us/step - loss: 4.7915e-07 - acc: 1.0000 - val_loss: 9.0810e-07 - val_acc: 1.0000\n",
            "Epoch 93/100\n",
            "3323/3323 [==============================] - 0s 98us/step - loss: 4.5420e-07 - acc: 1.0000 - val_loss: 8.6396e-07 - val_acc: 1.0000\n",
            "Epoch 94/100\n",
            "3323/3323 [==============================] - 0s 96us/step - loss: 4.3219e-07 - acc: 1.0000 - val_loss: 8.2449e-07 - val_acc: 1.0000\n",
            "Epoch 95/100\n",
            "3323/3323 [==============================] - 0s 94us/step - loss: 4.1180e-07 - acc: 1.0000 - val_loss: 7.8551e-07 - val_acc: 1.0000\n",
            "Epoch 96/100\n",
            "3323/3323 [==============================] - 0s 101us/step - loss: 3.9262e-07 - acc: 1.0000 - val_loss: 7.4636e-07 - val_acc: 1.0000\n",
            "Epoch 97/100\n",
            "3323/3323 [==============================] - 0s 94us/step - loss: 3.7307e-07 - acc: 1.0000 - val_loss: 7.1205e-07 - val_acc: 1.0000\n",
            "Epoch 98/100\n",
            "3323/3323 [==============================] - 0s 94us/step - loss: 3.5560e-07 - acc: 1.0000 - val_loss: 6.7821e-07 - val_acc: 1.0000\n",
            "Epoch 99/100\n",
            "3323/3323 [==============================] - 0s 96us/step - loss: 3.3994e-07 - acc: 1.0000 - val_loss: 6.4551e-07 - val_acc: 1.0000\n",
            "Epoch 100/100\n",
            "3323/3323 [==============================] - 0s 95us/step - loss: 3.2541e-07 - acc: 1.0000 - val_loss: 6.1442e-07 - val_acc: 1.0000\n"
          ],
          "name": "stdout"
        }
      ]
    },
    {
      "cell_type": "code",
      "metadata": {
        "id": "xVuXFVCh7S7A",
        "colab_type": "code",
        "colab": {
          "base_uri": "https://localhost:8080/",
          "height": 286
        },
        "outputId": "854332bd-05ae-49b6-b2e7-8e274b69af56"
      },
      "source": [
        "#Plotting\n",
        "plt.plot(m.history['loss'])\n",
        "plt.plot(m.history['val_loss'])"
      ],
      "execution_count": 56,
      "outputs": [
        {
          "output_type": "execute_result",
          "data": {
            "text/plain": [
              "[<matplotlib.lines.Line2D at 0x7f80b027d2b0>]"
            ]
          },
          "metadata": {
            "tags": []
          },
          "execution_count": 56
        },
        {
          "output_type": "display_data",
          "data": {
            "image/png": "[encoded data removed]",
            "text/plain": [
              "<Figure size 432x288 with 1 Axes>"
            ]
          },
          "metadata": {
            "tags": []
          }
        }
      ]
    },
    {
      "cell_type": "code",
      "metadata": {
        "id": "W7Tua6Kd7sHg",
        "colab_type": "code",
        "colab": {
          "base_uri": "https://localhost:8080/",
          "height": 286
        },
        "outputId": "5b776819-f26b-4f38-a4e3-5a11c9a0df35"
      },
      "source": [
        "\n",
        "plt.plot(m.history['acc'])\n",
        "plt.plot(m.history['val_acc'])"
      ],
      "execution_count": 57,
      "outputs": [
        {
          "output_type": "execute_result",
          "data": {
            "text/plain": [
              "[<matplotlib.lines.Line2D at 0x7f80b6150860>]"
            ]
          },
          "metadata": {
            "tags": []
          },
          "execution_count": 57
        },
        {
          "output_type": "display_data",
          "data": {
            "image/png": "[encoded data removed]",
            "text/plain": [
              "<Figure size 432x288 with 1 Axes>"
            ]
          },
          "metadata": {
            "tags": []
          }
        }
      ]
    },
    {
      "cell_type": "code",
      "metadata": {
        "id": "8GRq5wnO7u3S",
        "colab_type": "code",
        "colab": {
          "base_uri": "https://localhost:8080/",
          "height": 34
        },
        "outputId": "2775361e-e1a7-4bd4-aa3c-35d60b44ffe4"
      },
      "source": [
        "#Evaluating\n",
        "score= clf.evaluate(X_test, y_test)\n"
      ],
      "execution_count": 58,
      "outputs": [
        {
          "output_type": "stream",
          "text": [
            "924/924 [==============================] - 0s 43us/step\n"
          ],
          "name": "stdout"
        }
      ]
    },
    {
      "cell_type": "code",
      "metadata": {
        "id": "5eInHWMf70EC",
        "colab_type": "code",
        "colab": {
          "base_uri": "https://localhost:8080/",
          "height": 34
        },
        "outputId": "a1234d42-a8c3-4bd2-dbdf-a215e2e227fa"
      },
      "source": [
        "score"
      ],
      "execution_count": 59,
      "outputs": [
        {
          "output_type": "execute_result",
          "data": {
            "text/plain": [
              "[3.328575834661953e-07, 1.0]"
            ]
          },
          "metadata": {
            "tags": []
          },
          "execution_count": 59
        }
      ]
    },
    {
      "cell_type": "code",
      "metadata": {
        "id": "ISlJ6Zx272p_",
        "colab_type": "code",
        "colab": {
          "base_uri": "https://localhost:8080/",
          "height": 34
        },
        "outputId": "f8cd7518-0715-444f-9408-2043e8eaeded"
      },
      "source": [
        "sum(y_train == 0)\n"
      ],
      "execution_count": 60,
      "outputs": [
        {
          "output_type": "execute_result",
          "data": {
            "text/plain": [
              "0"
            ]
          },
          "metadata": {
            "tags": []
          },
          "execution_count": 60
        }
      ]
    },
    {
      "cell_type": "code",
      "metadata": {
        "id": "jw8KHaYY76x0",
        "colab_type": "code",
        "colab": {
          "base_uri": "https://localhost:8080/",
          "height": 34
        },
        "outputId": "f6d8cb2b-dd78-4bca-c1a9-45c621c2d01f"
      },
      "source": [
        "sum(y_test == 1)\n"
      ],
      "execution_count": 61,
      "outputs": [
        {
          "output_type": "execute_result",
          "data": {
            "text/plain": [
              "0"
            ]
          },
          "metadata": {
            "tags": []
          },
          "execution_count": 61
        }
      ]
    },
    {
      "cell_type": "code",
      "metadata": {
        "id": "e-Y28BMx79qN",
        "colab_type": "code",
        "colab": {}
      },
      "source": [
        ""
      ],
      "execution_count": 0,
      "outputs": []
    }
  ]
}