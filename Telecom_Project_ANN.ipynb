{
  "nbformat": 4,
  "nbformat_minor": 0,
  "metadata": {
    "colab": {
      "name": "Telecom Project ANN.ipynb",
      "version": "0.3.2",
      "provenance": [],
      "collapsed_sections": [],
      "include_colab_link": true
    },
    "kernelspec": {
      "name": "python3",
      "display_name": "Python 3"
    }
  },
  "cells": [
    {
      "cell_type": "markdown",
      "metadata": {
        "id": "view-in-github",
        "colab_type": "text"
      },
      "source": [
        "<a href=\"https://colab.research.google.com/github/Meghashyamt/Telecom-Project/blob/master/Telecom_Project_ANN.ipynb\" target=\"_parent\"><img src=\"https://colab.research.google.com/assets/colab-badge.svg\" alt=\"Open In Colab\"/></a>"
      ]
    },
    {
      "cell_type": "code",
      "metadata": {
        "id": "mrjrOZuc-iMt",
        "colab_type": "code",
        "colab": {}
      },
      "source": [
        "#!git clone https://github.com/Meghashyamt/Telecom-Project.git\n",
        "  "
      ],
      "execution_count": 0,
      "outputs": []
    },
    {
      "cell_type": "code",
      "metadata": {
        "id": "mJQAbaCS_yUy",
        "colab_type": "code",
        "colab": {}
      },
      "source": [
        "#import libraries\n",
        "import numpy as np\n",
        "import pandas as pd\n",
        "import matplotlib.pyplot as plt\n",
        "%matplotlib inline\n",
        "\n",
        "#import keras\n",
        "import keras\n",
        "from keras.models import Sequential\n",
        "from keras.layers import Dense, Dropout\n",
        "\n",
        "\n"
      ],
      "execution_count": 0,
      "outputs": []
    },
    {
      "cell_type": "code",
      "metadata": {
        "id": "HDIjSy_SA9ZI",
        "colab_type": "code",
        "colab": {}
      },
      "source": [
        "data = pd.read_csv(\"telecom_churn_data.csv\")"
      ],
      "execution_count": 0,
      "outputs": []
    },
    {
      "cell_type": "code",
      "metadata": {
        "id": "ywIc45OoBTEq",
        "colab_type": "code",
        "colab": {}
      },
      "source": [
        "#data.loc[0]=['State','Account Length','Area Code','Phone','International Plan','VMail Plan','VMail Message','Day Mins','Day calls','Day charge','Eve Mins','Eve calls','Eve Charge','Night Mins','Night calls','Night charge','International Mins','International calls','International charge','Custserve calls','Churn']"
      ],
      "execution_count": 0,
      "outputs": []
    },
    {
      "cell_type": "code",
      "metadata": {
        "id": "sFbbWdHAEhHe",
        "colab_type": "code",
        "outputId": "3727aee8-41d8-43b5-ec9e-d2a3e61dfeb7",
        "colab": {
          "base_uri": "https://localhost:8080/",
          "height": 326
        }
      },
      "source": [
        "data.head()"
      ],
      "execution_count": 54,
      "outputs": [
        {
          "output_type": "execute_result",
          "data": {
            "text/html": [
              "<div>\n",
              "<style scoped>\n",
              "    .dataframe tbody tr th:only-of-type {\n",
              "        vertical-align: middle;\n",
              "    }\n",
              "\n",
              "    .dataframe tbody tr th {\n",
              "        vertical-align: top;\n",
              "    }\n",
              "\n",
              "    .dataframe thead th {\n",
              "        text-align: right;\n",
              "    }\n",
              "</style>\n",
              "<table border=\"1\" class=\"dataframe\">\n",
              "  <thead>\n",
              "    <tr style=\"text-align: right;\">\n",
              "      <th></th>\n",
              "      <th>State</th>\n",
              "      <th>Account Length</th>\n",
              "      <th>Area code</th>\n",
              "      <th>Phone</th>\n",
              "      <th>International Plan</th>\n",
              "      <th>Vmail plan</th>\n",
              "      <th>Vmail Message</th>\n",
              "      <th>Day mins</th>\n",
              "      <th>Day calls</th>\n",
              "      <th>Day charge</th>\n",
              "      <th>Eve mins</th>\n",
              "      <th>Eve calls</th>\n",
              "      <th>Eve charge</th>\n",
              "      <th>Night mins</th>\n",
              "      <th>Night calls</th>\n",
              "      <th>Night charge</th>\n",
              "      <th>International mins</th>\n",
              "      <th>International calls</th>\n",
              "      <th>International charge</th>\n",
              "      <th>Custserve calls</th>\n",
              "      <th>Churn</th>\n",
              "    </tr>\n",
              "  </thead>\n",
              "  <tbody>\n",
              "    <tr>\n",
              "      <th>0</th>\n",
              "      <td>KS</td>\n",
              "      <td>128</td>\n",
              "      <td>415</td>\n",
              "      <td>382-4657</td>\n",
              "      <td>no</td>\n",
              "      <td>yes</td>\n",
              "      <td>25</td>\n",
              "      <td>265.1</td>\n",
              "      <td>110</td>\n",
              "      <td>45.07</td>\n",
              "      <td>197.4</td>\n",
              "      <td>99</td>\n",
              "      <td>16.78</td>\n",
              "      <td>244.7</td>\n",
              "      <td>91</td>\n",
              "      <td>11.01</td>\n",
              "      <td>10.0</td>\n",
              "      <td>3</td>\n",
              "      <td>2.70</td>\n",
              "      <td>1</td>\n",
              "      <td>False.</td>\n",
              "    </tr>\n",
              "    <tr>\n",
              "      <th>1</th>\n",
              "      <td>OH</td>\n",
              "      <td>107</td>\n",
              "      <td>415</td>\n",
              "      <td>371-7191</td>\n",
              "      <td>no</td>\n",
              "      <td>yes</td>\n",
              "      <td>26</td>\n",
              "      <td>161.6</td>\n",
              "      <td>123</td>\n",
              "      <td>27.47</td>\n",
              "      <td>195.5</td>\n",
              "      <td>103</td>\n",
              "      <td>16.62</td>\n",
              "      <td>254.4</td>\n",
              "      <td>103</td>\n",
              "      <td>11.45</td>\n",
              "      <td>13.7</td>\n",
              "      <td>3</td>\n",
              "      <td>3.70</td>\n",
              "      <td>1</td>\n",
              "      <td>False.</td>\n",
              "    </tr>\n",
              "    <tr>\n",
              "      <th>2</th>\n",
              "      <td>NJ</td>\n",
              "      <td>137</td>\n",
              "      <td>415</td>\n",
              "      <td>358-1921</td>\n",
              "      <td>no</td>\n",
              "      <td>no</td>\n",
              "      <td>0</td>\n",
              "      <td>243.4</td>\n",
              "      <td>114</td>\n",
              "      <td>41.38</td>\n",
              "      <td>121.2</td>\n",
              "      <td>110</td>\n",
              "      <td>10.30</td>\n",
              "      <td>162.6</td>\n",
              "      <td>104</td>\n",
              "      <td>7.32</td>\n",
              "      <td>12.2</td>\n",
              "      <td>5</td>\n",
              "      <td>3.29</td>\n",
              "      <td>0</td>\n",
              "      <td>False.</td>\n",
              "    </tr>\n",
              "    <tr>\n",
              "      <th>3</th>\n",
              "      <td>OH</td>\n",
              "      <td>84</td>\n",
              "      <td>408</td>\n",
              "      <td>375-9999</td>\n",
              "      <td>yes</td>\n",
              "      <td>no</td>\n",
              "      <td>0</td>\n",
              "      <td>299.4</td>\n",
              "      <td>71</td>\n",
              "      <td>50.90</td>\n",
              "      <td>61.9</td>\n",
              "      <td>88</td>\n",
              "      <td>5.26</td>\n",
              "      <td>196.9</td>\n",
              "      <td>89</td>\n",
              "      <td>8.86</td>\n",
              "      <td>6.6</td>\n",
              "      <td>7</td>\n",
              "      <td>1.78</td>\n",
              "      <td>2</td>\n",
              "      <td>False.</td>\n",
              "    </tr>\n",
              "    <tr>\n",
              "      <th>4</th>\n",
              "      <td>OK</td>\n",
              "      <td>75</td>\n",
              "      <td>415</td>\n",
              "      <td>330-6626</td>\n",
              "      <td>yes</td>\n",
              "      <td>no</td>\n",
              "      <td>0</td>\n",
              "      <td>166.7</td>\n",
              "      <td>113</td>\n",
              "      <td>28.34</td>\n",
              "      <td>148.3</td>\n",
              "      <td>122</td>\n",
              "      <td>12.61</td>\n",
              "      <td>186.9</td>\n",
              "      <td>121</td>\n",
              "      <td>8.41</td>\n",
              "      <td>10.1</td>\n",
              "      <td>3</td>\n",
              "      <td>2.73</td>\n",
              "      <td>3</td>\n",
              "      <td>False.</td>\n",
              "    </tr>\n",
              "  </tbody>\n",
              "</table>\n",
              "</div>"
            ],
            "text/plain": [
              "  State  Account Length  ...  Custserve calls     Churn\n",
              "0    KS             128  ...                 1   False.\n",
              "1    OH             107  ...                 1   False.\n",
              "2    NJ             137  ...                 0   False.\n",
              "3    OH              84  ...                 2   False.\n",
              "4    OK              75  ...                 3   False.\n",
              "\n",
              "[5 rows x 21 columns]"
            ]
          },
          "metadata": {
            "tags": []
          },
          "execution_count": 54
        }
      ]
    },
    {
      "cell_type": "code",
      "metadata": {
        "id": "k3RzFz-YEcZ-",
        "colab_type": "code",
        "outputId": "3b0225a4-2a07-4c29-8257-c92c22dae9c3",
        "colab": {
          "base_uri": "https://localhost:8080/",
          "height": 459
        }
      },
      "source": [
        "data.info()"
      ],
      "execution_count": 55,
      "outputs": [
        {
          "output_type": "stream",
          "text": [
            "<class 'pandas.core.frame.DataFrame'>\n",
            "RangeIndex: 4617 entries, 0 to 4616\n",
            "Data columns (total 21 columns):\n",
            "State                   4617 non-null object\n",
            "Account Length          4617 non-null int64\n",
            "Area code               4617 non-null int64\n",
            "Phone                   4617 non-null object\n",
            "International Plan      4617 non-null object\n",
            "Vmail plan              4617 non-null object\n",
            "Vmail Message           4617 non-null int64\n",
            "Day mins                4617 non-null float64\n",
            "Day calls               4617 non-null int64\n",
            "Day charge              4617 non-null float64\n",
            "Eve mins                4617 non-null float64\n",
            "Eve calls               4617 non-null int64\n",
            "Eve charge              4617 non-null float64\n",
            "Night mins              4617 non-null float64\n",
            "Night calls             4617 non-null int64\n",
            "Night charge            4617 non-null float64\n",
            "International mins      4617 non-null float64\n",
            "International calls     4617 non-null int64\n",
            "International charge    4617 non-null float64\n",
            "Custserve calls         4617 non-null int64\n",
            "Churn                   4617 non-null object\n",
            "dtypes: float64(8), int64(8), object(5)\n",
            "memory usage: 757.6+ KB\n"
          ],
          "name": "stdout"
        }
      ]
    },
    {
      "cell_type": "code",
      "metadata": {
        "id": "6zbWG4r8xKz7",
        "colab_type": "code",
        "colab": {}
      },
      "source": [
        "data['Churn-Flag']=(data['Churn']== True).astype(int)"
      ],
      "execution_count": 0,
      "outputs": []
    },
    {
      "cell_type": "code",
      "metadata": {
        "id": "RQMkru9EBN5O",
        "colab_type": "code",
        "outputId": "4357267b-cd87-4e0b-a51a-aea035c8220f",
        "colab": {
          "base_uri": "https://localhost:8080/",
          "height": 182
        }
      },
      "source": [
        "data.head(2)"
      ],
      "execution_count": 57,
      "outputs": [
        {
          "output_type": "execute_result",
          "data": {
            "text/html": [
              "<div>\n",
              "<style scoped>\n",
              "    .dataframe tbody tr th:only-of-type {\n",
              "        vertical-align: middle;\n",
              "    }\n",
              "\n",
              "    .dataframe tbody tr th {\n",
              "        vertical-align: top;\n",
              "    }\n",
              "\n",
              "    .dataframe thead th {\n",
              "        text-align: right;\n",
              "    }\n",
              "</style>\n",
              "<table border=\"1\" class=\"dataframe\">\n",
              "  <thead>\n",
              "    <tr style=\"text-align: right;\">\n",
              "      <th></th>\n",
              "      <th>State</th>\n",
              "      <th>Account Length</th>\n",
              "      <th>Area code</th>\n",
              "      <th>Phone</th>\n",
              "      <th>International Plan</th>\n",
              "      <th>Vmail plan</th>\n",
              "      <th>Vmail Message</th>\n",
              "      <th>Day mins</th>\n",
              "      <th>Day calls</th>\n",
              "      <th>Day charge</th>\n",
              "      <th>Eve mins</th>\n",
              "      <th>Eve calls</th>\n",
              "      <th>Eve charge</th>\n",
              "      <th>Night mins</th>\n",
              "      <th>Night calls</th>\n",
              "      <th>Night charge</th>\n",
              "      <th>International mins</th>\n",
              "      <th>International calls</th>\n",
              "      <th>International charge</th>\n",
              "      <th>Custserve calls</th>\n",
              "      <th>Churn</th>\n",
              "      <th>Churn-Flag</th>\n",
              "    </tr>\n",
              "  </thead>\n",
              "  <tbody>\n",
              "    <tr>\n",
              "      <th>0</th>\n",
              "      <td>KS</td>\n",
              "      <td>128</td>\n",
              "      <td>415</td>\n",
              "      <td>382-4657</td>\n",
              "      <td>no</td>\n",
              "      <td>yes</td>\n",
              "      <td>25</td>\n",
              "      <td>265.1</td>\n",
              "      <td>110</td>\n",
              "      <td>45.07</td>\n",
              "      <td>197.4</td>\n",
              "      <td>99</td>\n",
              "      <td>16.78</td>\n",
              "      <td>244.7</td>\n",
              "      <td>91</td>\n",
              "      <td>11.01</td>\n",
              "      <td>10.0</td>\n",
              "      <td>3</td>\n",
              "      <td>2.7</td>\n",
              "      <td>1</td>\n",
              "      <td>False.</td>\n",
              "      <td>0</td>\n",
              "    </tr>\n",
              "    <tr>\n",
              "      <th>1</th>\n",
              "      <td>OH</td>\n",
              "      <td>107</td>\n",
              "      <td>415</td>\n",
              "      <td>371-7191</td>\n",
              "      <td>no</td>\n",
              "      <td>yes</td>\n",
              "      <td>26</td>\n",
              "      <td>161.6</td>\n",
              "      <td>123</td>\n",
              "      <td>27.47</td>\n",
              "      <td>195.5</td>\n",
              "      <td>103</td>\n",
              "      <td>16.62</td>\n",
              "      <td>254.4</td>\n",
              "      <td>103</td>\n",
              "      <td>11.45</td>\n",
              "      <td>13.7</td>\n",
              "      <td>3</td>\n",
              "      <td>3.7</td>\n",
              "      <td>1</td>\n",
              "      <td>False.</td>\n",
              "      <td>0</td>\n",
              "    </tr>\n",
              "  </tbody>\n",
              "</table>\n",
              "</div>"
            ],
            "text/plain": [
              "  State  Account Length  Area code  ... Custserve calls     Churn Churn-Flag\n",
              "0    KS             128        415  ...                1   False.          0\n",
              "1    OH             107        415  ...                1   False.          0\n",
              "\n",
              "[2 rows x 22 columns]"
            ]
          },
          "metadata": {
            "tags": []
          },
          "execution_count": 57
        }
      ]
    },
    {
      "cell_type": "code",
      "metadata": {
        "id": "TTNxxU1-7fAj",
        "colab_type": "code",
        "colab": {}
      },
      "source": [
        "from sklearn.model_selection import train_test_split\n",
        "from sklearn.preprocessing import StandardScaler"
      ],
      "execution_count": 0,
      "outputs": []
    },
    {
      "cell_type": "code",
      "metadata": {
        "id": "3RKFvdn37q0L",
        "colab_type": "code",
        "colab": {}
      },
      "source": [
        "X=data.iloc[:,4:-2]\n",
        "y=data.iloc[:,-1]"
      ],
      "execution_count": 0,
      "outputs": []
    },
    {
      "cell_type": "code",
      "metadata": {
        "id": "D1xsfQA172Uw",
        "colab_type": "code",
        "colab": {}
      },
      "source": [
        "X=pd.get_dummies(X)"
      ],
      "execution_count": 0,
      "outputs": []
    },
    {
      "cell_type": "code",
      "metadata": {
        "id": "gX6UH42w8D4M",
        "colab_type": "code",
        "colab": {}
      },
      "source": [
        "#X.head()"
      ],
      "execution_count": 0,
      "outputs": []
    },
    {
      "cell_type": "code",
      "metadata": {
        "id": "3JytbFKh8FK8",
        "colab_type": "code",
        "colab": {}
      },
      "source": [
        "y=pd.get_dummies(y)"
      ],
      "execution_count": 0,
      "outputs": []
    },
    {
      "cell_type": "code",
      "metadata": {
        "id": "zQXRDrEm8Tto",
        "colab_type": "code",
        "outputId": "dbc36e8a-e98b-4ce9-860c-d39525c8b3bd",
        "colab": {
          "base_uri": "https://localhost:8080/",
          "height": 204
        }
      },
      "source": [
        "y.head()"
      ],
      "execution_count": 63,
      "outputs": [
        {
          "output_type": "execute_result",
          "data": {
            "text/html": [
              "<div>\n",
              "<style scoped>\n",
              "    .dataframe tbody tr th:only-of-type {\n",
              "        vertical-align: middle;\n",
              "    }\n",
              "\n",
              "    .dataframe tbody tr th {\n",
              "        vertical-align: top;\n",
              "    }\n",
              "\n",
              "    .dataframe thead th {\n",
              "        text-align: right;\n",
              "    }\n",
              "</style>\n",
              "<table border=\"1\" class=\"dataframe\">\n",
              "  <thead>\n",
              "    <tr style=\"text-align: right;\">\n",
              "      <th></th>\n",
              "      <th>0</th>\n",
              "    </tr>\n",
              "  </thead>\n",
              "  <tbody>\n",
              "    <tr>\n",
              "      <th>0</th>\n",
              "      <td>1</td>\n",
              "    </tr>\n",
              "    <tr>\n",
              "      <th>1</th>\n",
              "      <td>1</td>\n",
              "    </tr>\n",
              "    <tr>\n",
              "      <th>2</th>\n",
              "      <td>1</td>\n",
              "    </tr>\n",
              "    <tr>\n",
              "      <th>3</th>\n",
              "      <td>1</td>\n",
              "    </tr>\n",
              "    <tr>\n",
              "      <th>4</th>\n",
              "      <td>1</td>\n",
              "    </tr>\n",
              "  </tbody>\n",
              "</table>\n",
              "</div>"
            ],
            "text/plain": [
              "   0\n",
              "0  1\n",
              "1  1\n",
              "2  1\n",
              "3  1\n",
              "4  1"
            ]
          },
          "metadata": {
            "tags": []
          },
          "execution_count": 63
        }
      ]
    },
    {
      "cell_type": "code",
      "metadata": {
        "id": "rrG5wjk28V5I",
        "colab_type": "code",
        "colab": {}
      },
      "source": [
        "clf = Sequential()"
      ],
      "execution_count": 0,
      "outputs": []
    },
    {
      "cell_type": "code",
      "metadata": {
        "id": "j0vFaLHi35ew",
        "colab_type": "code",
        "colab": {}
      },
      "source": [
        "from sklearn.preprocessing import StandardScaler\n",
        "from sklearn.model_selection import train_test_split"
      ],
      "execution_count": 0,
      "outputs": []
    },
    {
      "cell_type": "code",
      "metadata": {
        "id": "oWiNuCYH5LJo",
        "colab_type": "code",
        "colab": {}
      },
      "source": [
        "X_train,X_test,y_train,y_test=train_test_split(X,y, test_size=0.2)"
      ],
      "execution_count": 0,
      "outputs": []
    },
    {
      "cell_type": "code",
      "metadata": {
        "id": "t-azwU5oGy4Y",
        "colab_type": "code",
        "colab": {}
      },
      "source": [
        "sc = StandardScaler()"
      ],
      "execution_count": 0,
      "outputs": []
    },
    {
      "cell_type": "code",
      "metadata": {
        "id": "awTm1TTSDiaq",
        "colab_type": "code",
        "colab": {}
      },
      "source": [
        "X_train=sc.fit_transform(X_train)\n",
        "X_test=sc.transform(X_test)"
      ],
      "execution_count": 0,
      "outputs": []
    },
    {
      "cell_type": "code",
      "metadata": {
        "id": "fpBv0w6WDTFH",
        "colab_type": "code",
        "colab": {}
      },
      "source": [
        "clf.add(Dense(units=6, activation='relu', input_dim=18))\n",
        "clf.add(Dense(units=6, activation='relu'))\n",
        "clf.add(Dense(units= 1, activation='sigmoid'))"
      ],
      "execution_count": 0,
      "outputs": []
    },
    {
      "cell_type": "code",
      "metadata": {
        "id": "cZHVyrs3DG0T",
        "colab_type": "code",
        "colab": {}
      },
      "source": [
        "clf.compile(optimizer='adam', loss='binary_crossentropy', metrics=['accuracy'])"
      ],
      "execution_count": 0,
      "outputs": []
    },
    {
      "cell_type": "code",
      "metadata": {
        "id": "mEWDgm-oDANd",
        "colab_type": "code",
        "colab": {
          "base_uri": "https://localhost:8080/",
          "height": 3434
        },
        "outputId": "63b609e0-f791-4e03-c88b-733252d4a05e"
      },
      "source": [
        "m=clf.fit(X_train,y_train, batch_size=32, epochs=100, validation_split=0.1)\n"
      ],
      "execution_count": 72,
      "outputs": [
        {
          "output_type": "stream",
          "text": [
            "Train on 3323 samples, validate on 370 samples\n",
            "Epoch 1/100\n",
            "3323/3323 [==============================] - 0s 44us/step - loss: 1.0819e-06 - acc: 1.0000 - val_loss: 1.8048e-06 - val_acc: 1.0000\n",
            "Epoch 2/100\n",
            "3323/3323 [==============================] - 0s 61us/step - loss: 1.0225e-06 - acc: 1.0000 - val_loss: 1.7083e-06 - val_acc: 1.0000\n",
            "Epoch 3/100\n",
            "3323/3323 [==============================] - 0s 56us/step - loss: 9.6586e-07 - acc: 1.0000 - val_loss: 1.6244e-06 - val_acc: 1.0000\n",
            "Epoch 4/100\n",
            "3323/3323 [==============================] - 0s 47us/step - loss: 9.1370e-07 - acc: 1.0000 - val_loss: 1.5390e-06 - val_acc: 1.0000\n",
            "Epoch 5/100\n",
            "3323/3323 [==============================] - 0s 37us/step - loss: 8.6478e-07 - acc: 1.0000 - val_loss: 1.4608e-06 - val_acc: 1.0000\n",
            "Epoch 6/100\n",
            "3323/3323 [==============================] - 0s 36us/step - loss: 8.1840e-07 - acc: 1.0000 - val_loss: 1.3829e-06 - val_acc: 1.0000\n",
            "Epoch 7/100\n",
            "3323/3323 [==============================] - 0s 40us/step - loss: 7.7463e-07 - acc: 1.0000 - val_loss: 1.3115e-06 - val_acc: 1.0000\n",
            "Epoch 8/100\n",
            "3323/3323 [==============================] - 0s 43us/step - loss: 7.3501e-07 - acc: 1.0000 - val_loss: 1.2467e-06 - val_acc: 1.0000\n",
            "Epoch 9/100\n",
            "3323/3323 [==============================] - 0s 59us/step - loss: 6.9614e-07 - acc: 1.0000 - val_loss: 1.1818e-06 - val_acc: 1.0000\n",
            "Epoch 10/100\n",
            "3323/3323 [==============================] - 0s 57us/step - loss: 6.5999e-07 - acc: 1.0000 - val_loss: 1.1227e-06 - val_acc: 1.0000\n",
            "Epoch 11/100\n",
            "3323/3323 [==============================] - 0s 52us/step - loss: 6.2591e-07 - acc: 1.0000 - val_loss: 1.0734e-06 - val_acc: 1.0000\n",
            "Epoch 12/100\n",
            "3323/3323 [==============================] - 0s 41us/step - loss: 5.9395e-07 - acc: 1.0000 - val_loss: 1.0146e-06 - val_acc: 1.0000\n",
            "Epoch 13/100\n",
            "3323/3323 [==============================] - 0s 37us/step - loss: 5.6437e-07 - acc: 1.0000 - val_loss: 9.6497e-07 - val_acc: 1.0000\n",
            "Epoch 14/100\n",
            "3323/3323 [==============================] - 0s 38us/step - loss: 5.3675e-07 - acc: 1.0000 - val_loss: 9.1680e-07 - val_acc: 1.0000\n",
            "Epoch 15/100\n",
            "3323/3323 [==============================] - 0s 39us/step - loss: 5.0959e-07 - acc: 1.0000 - val_loss: 8.7089e-07 - val_acc: 1.0000\n",
            "Epoch 16/100\n",
            "3323/3323 [==============================] - 0s 37us/step - loss: 4.8435e-07 - acc: 1.0000 - val_loss: 8.2997e-07 - val_acc: 1.0000\n",
            "Epoch 17/100\n",
            "3323/3323 [==============================] - 0s 38us/step - loss: 4.6191e-07 - acc: 1.0000 - val_loss: 7.8808e-07 - val_acc: 1.0000\n",
            "Epoch 18/100\n",
            "3323/3323 [==============================] - 0s 39us/step - loss: 4.4000e-07 - acc: 1.0000 - val_loss: 7.5119e-07 - val_acc: 1.0000\n",
            "Epoch 19/100\n",
            "3323/3323 [==============================] - 0s 38us/step - loss: 4.1939e-07 - acc: 1.0000 - val_loss: 7.1414e-07 - val_acc: 1.0000\n",
            "Epoch 20/100\n",
            "3323/3323 [==============================] - 0s 38us/step - loss: 4.0012e-07 - acc: 1.0000 - val_loss: 6.7998e-07 - val_acc: 1.0000\n",
            "Epoch 21/100\n",
            "3323/3323 [==============================] - 0s 37us/step - loss: 3.8136e-07 - acc: 1.0000 - val_loss: 6.4938e-07 - val_acc: 1.0000\n",
            "Epoch 22/100\n",
            "3323/3323 [==============================] - 0s 41us/step - loss: 3.6452e-07 - acc: 1.0000 - val_loss: 6.1973e-07 - val_acc: 1.0000\n",
            "Epoch 23/100\n",
            "3323/3323 [==============================] - 0s 38us/step - loss: 3.4812e-07 - acc: 1.0000 - val_loss: 5.9219e-07 - val_acc: 1.0000\n",
            "Epoch 24/100\n",
            "3323/3323 [==============================] - 0s 37us/step - loss: 3.3386e-07 - acc: 1.0000 - val_loss: 5.6448e-07 - val_acc: 1.0000\n",
            "Epoch 25/100\n",
            "3323/3323 [==============================] - 0s 37us/step - loss: 3.1901e-07 - acc: 1.0000 - val_loss: 5.3919e-07 - val_acc: 1.0000\n",
            "Epoch 26/100\n",
            "3323/3323 [==============================] - 0s 38us/step - loss: 3.0581e-07 - acc: 1.0000 - val_loss: 5.1309e-07 - val_acc: 1.0000\n",
            "Epoch 27/100\n",
            "3323/3323 [==============================] - 0s 37us/step - loss: 2.9420e-07 - acc: 1.0000 - val_loss: 4.9118e-07 - val_acc: 1.0000\n",
            "Epoch 28/100\n",
            "3323/3323 [==============================] - 0s 36us/step - loss: 2.8217e-07 - acc: 1.0000 - val_loss: 4.7104e-07 - val_acc: 1.0000\n",
            "Epoch 29/100\n",
            "3323/3323 [==============================] - 0s 38us/step - loss: 2.7142e-07 - acc: 1.0000 - val_loss: 4.5026e-07 - val_acc: 1.0000\n",
            "Epoch 30/100\n",
            "3323/3323 [==============================] - 0s 37us/step - loss: 2.6113e-07 - acc: 1.0000 - val_loss: 4.3431e-07 - val_acc: 1.0000\n",
            "Epoch 31/100\n",
            "3323/3323 [==============================] - 0s 42us/step - loss: 2.5074e-07 - acc: 1.0000 - val_loss: 4.1353e-07 - val_acc: 1.0000\n",
            "Epoch 32/100\n",
            "3323/3323 [==============================] - 0s 37us/step - loss: 2.4233e-07 - acc: 1.0000 - val_loss: 3.9468e-07 - val_acc: 1.0000\n",
            "Epoch 33/100\n",
            "3323/3323 [==============================] - 0s 38us/step - loss: 2.3417e-07 - acc: 1.0000 - val_loss: 3.8018e-07 - val_acc: 1.0000\n",
            "Epoch 34/100\n",
            "3323/3323 [==============================] - 0s 38us/step - loss: 2.2588e-07 - acc: 1.0000 - val_loss: 3.6423e-07 - val_acc: 1.0000\n",
            "Epoch 35/100\n",
            "3323/3323 [==============================] - 0s 38us/step - loss: 2.1885e-07 - acc: 1.0000 - val_loss: 3.5086e-07 - val_acc: 1.0000\n",
            "Epoch 36/100\n",
            "3323/3323 [==============================] - 0s 38us/step - loss: 2.1139e-07 - acc: 1.0000 - val_loss: 3.3492e-07 - val_acc: 1.0000\n",
            "Epoch 37/100\n",
            "3323/3323 [==============================] - 0s 40us/step - loss: 2.0468e-07 - acc: 1.0000 - val_loss: 3.2396e-07 - val_acc: 1.0000\n",
            "Epoch 38/100\n",
            "3323/3323 [==============================] - 0s 38us/step - loss: 1.9890e-07 - acc: 1.0000 - val_loss: 3.1043e-07 - val_acc: 1.0000\n",
            "Epoch 39/100\n",
            "3323/3323 [==============================] - 0s 39us/step - loss: 1.9338e-07 - acc: 1.0000 - val_loss: 3.0189e-07 - val_acc: 1.0000\n",
            "Epoch 40/100\n",
            "3323/3323 [==============================] - 0s 38us/step - loss: 1.8793e-07 - acc: 1.0000 - val_loss: 2.8916e-07 - val_acc: 1.0000\n",
            "Epoch 41/100\n",
            "3323/3323 [==============================] - 0s 38us/step - loss: 1.8280e-07 - acc: 1.0000 - val_loss: 2.7966e-07 - val_acc: 1.0000\n",
            "Epoch 42/100\n",
            "3323/3323 [==============================] - 0s 38us/step - loss: 1.7792e-07 - acc: 1.0000 - val_loss: 2.6983e-07 - val_acc: 1.0000\n",
            "Epoch 43/100\n",
            "3323/3323 [==============================] - 0s 37us/step - loss: 1.7404e-07 - acc: 1.0000 - val_loss: 2.6210e-07 - val_acc: 1.0000\n",
            "Epoch 44/100\n",
            "3323/3323 [==============================] - 0s 39us/step - loss: 1.6994e-07 - acc: 1.0000 - val_loss: 2.5405e-07 - val_acc: 1.0000\n",
            "Epoch 45/100\n",
            "3323/3323 [==============================] - 0s 36us/step - loss: 1.6568e-07 - acc: 1.0000 - val_loss: 2.4615e-07 - val_acc: 1.0000\n",
            "Epoch 46/100\n",
            "3323/3323 [==============================] - 0s 39us/step - loss: 1.6253e-07 - acc: 1.0000 - val_loss: 2.3858e-07 - val_acc: 1.0000\n",
            "Epoch 47/100\n",
            "3323/3323 [==============================] - 0s 39us/step - loss: 1.5883e-07 - acc: 1.0000 - val_loss: 2.3262e-07 - val_acc: 1.0000\n",
            "Epoch 48/100\n",
            "3323/3323 [==============================] - 0s 40us/step - loss: 1.5598e-07 - acc: 1.0000 - val_loss: 2.2601e-07 - val_acc: 1.0000\n",
            "Epoch 49/100\n",
            "3323/3323 [==============================] - 0s 40us/step - loss: 1.5293e-07 - acc: 1.0000 - val_loss: 2.1941e-07 - val_acc: 1.0000\n",
            "Epoch 50/100\n",
            "3323/3323 [==============================] - 0s 38us/step - loss: 1.5010e-07 - acc: 1.0000 - val_loss: 2.1281e-07 - val_acc: 1.0000\n",
            "Epoch 51/100\n",
            "3323/3323 [==============================] - 0s 37us/step - loss: 1.4721e-07 - acc: 1.0000 - val_loss: 2.0604e-07 - val_acc: 1.0000\n",
            "Epoch 52/100\n",
            "3323/3323 [==============================] - 0s 39us/step - loss: 1.4506e-07 - acc: 1.0000 - val_loss: 2.0024e-07 - val_acc: 1.0000\n",
            "Epoch 53/100\n",
            "3323/3323 [==============================] - 0s 41us/step - loss: 1.4285e-07 - acc: 1.0000 - val_loss: 1.9573e-07 - val_acc: 1.0000\n",
            "Epoch 54/100\n",
            "3323/3323 [==============================] - 0s 37us/step - loss: 1.4097e-07 - acc: 1.0000 - val_loss: 1.9283e-07 - val_acc: 1.0000\n",
            "Epoch 55/100\n",
            "3323/3323 [==============================] - 0s 39us/step - loss: 1.3907e-07 - acc: 1.0000 - val_loss: 1.8896e-07 - val_acc: 1.0000\n",
            "Epoch 56/100\n",
            "3323/3323 [==============================] - 0s 39us/step - loss: 1.3761e-07 - acc: 1.0000 - val_loss: 1.8461e-07 - val_acc: 1.0000\n",
            "Epoch 57/100\n",
            "3323/3323 [==============================] - 0s 37us/step - loss: 1.3605e-07 - acc: 1.0000 - val_loss: 1.7994e-07 - val_acc: 1.0000\n",
            "Epoch 58/100\n",
            "3323/3323 [==============================] - 0s 37us/step - loss: 1.3447e-07 - acc: 1.0000 - val_loss: 1.7785e-07 - val_acc: 1.0000\n",
            "Epoch 59/100\n",
            "3323/3323 [==============================] - 0s 38us/step - loss: 1.3282e-07 - acc: 1.0000 - val_loss: 1.7430e-07 - val_acc: 1.0000\n",
            "Epoch 60/100\n",
            "3323/3323 [==============================] - 0s 38us/step - loss: 1.3216e-07 - acc: 1.0000 - val_loss: 1.7092e-07 - val_acc: 1.0000\n",
            "Epoch 61/100\n",
            "3323/3323 [==============================] - 0s 39us/step - loss: 1.3040e-07 - acc: 1.0000 - val_loss: 1.6673e-07 - val_acc: 1.0000\n",
            "Epoch 62/100\n",
            "3323/3323 [==============================] - 0s 41us/step - loss: 1.2925e-07 - acc: 1.0000 - val_loss: 1.6399e-07 - val_acc: 1.0000\n",
            "Epoch 63/100\n",
            "3323/3323 [==============================] - 0s 37us/step - loss: 1.2843e-07 - acc: 1.0000 - val_loss: 1.6109e-07 - val_acc: 1.0000\n",
            "Epoch 64/100\n",
            "3323/3323 [==============================] - 0s 38us/step - loss: 1.2755e-07 - acc: 1.0000 - val_loss: 1.5787e-07 - val_acc: 1.0000\n",
            "Epoch 65/100\n",
            "3323/3323 [==============================] - 0s 38us/step - loss: 1.2685e-07 - acc: 1.0000 - val_loss: 1.5642e-07 - val_acc: 1.0000\n",
            "Epoch 66/100\n",
            "3323/3323 [==============================] - 0s 38us/step - loss: 1.2626e-07 - acc: 1.0000 - val_loss: 1.5449e-07 - val_acc: 1.0000\n",
            "Epoch 67/100\n",
            "3323/3323 [==============================] - 0s 38us/step - loss: 1.2561e-07 - acc: 1.0000 - val_loss: 1.5256e-07 - val_acc: 1.0000\n",
            "Epoch 68/100\n",
            "3323/3323 [==============================] - 0s 38us/step - loss: 1.2506e-07 - acc: 1.0000 - val_loss: 1.4966e-07 - val_acc: 1.0000\n",
            "Epoch 69/100\n",
            "3323/3323 [==============================] - 0s 39us/step - loss: 1.2430e-07 - acc: 1.0000 - val_loss: 1.4853e-07 - val_acc: 1.0000\n",
            "Epoch 70/100\n",
            "3323/3323 [==============================] - 0s 38us/step - loss: 1.2384e-07 - acc: 1.0000 - val_loss: 1.4708e-07 - val_acc: 1.0000\n",
            "Epoch 71/100\n",
            "3323/3323 [==============================] - 0s 37us/step - loss: 1.2348e-07 - acc: 1.0000 - val_loss: 1.4482e-07 - val_acc: 1.0000\n",
            "Epoch 72/100\n",
            "3323/3323 [==============================] - 0s 40us/step - loss: 1.2280e-07 - acc: 1.0000 - val_loss: 1.4386e-07 - val_acc: 1.0000\n",
            "Epoch 73/100\n",
            "3323/3323 [==============================] - 0s 41us/step - loss: 1.2258e-07 - acc: 1.0000 - val_loss: 1.4257e-07 - val_acc: 1.0000\n",
            "Epoch 74/100\n",
            "3323/3323 [==============================] - 0s 38us/step - loss: 1.2194e-07 - acc: 1.0000 - val_loss: 1.4080e-07 - val_acc: 1.0000\n",
            "Epoch 75/100\n",
            "3323/3323 [==============================] - 0s 38us/step - loss: 1.2168e-07 - acc: 1.0000 - val_loss: 1.3967e-07 - val_acc: 1.0000\n",
            "Epoch 76/100\n",
            "3323/3323 [==============================] - 0s 38us/step - loss: 1.2142e-07 - acc: 1.0000 - val_loss: 1.3870e-07 - val_acc: 1.0000\n",
            "Epoch 77/100\n",
            "3323/3323 [==============================] - 0s 38us/step - loss: 1.2147e-07 - acc: 1.0000 - val_loss: 1.3757e-07 - val_acc: 1.0000\n",
            "Epoch 78/100\n",
            "3323/3323 [==============================] - 0s 37us/step - loss: 1.2099e-07 - acc: 1.0000 - val_loss: 1.3596e-07 - val_acc: 1.0000\n",
            "Epoch 79/100\n",
            "3323/3323 [==============================] - 0s 39us/step - loss: 1.2081e-07 - acc: 1.0000 - val_loss: 1.3484e-07 - val_acc: 1.0000\n",
            "Epoch 80/100\n",
            "3323/3323 [==============================] - 0s 36us/step - loss: 1.2077e-07 - acc: 1.0000 - val_loss: 1.3419e-07 - val_acc: 1.0000\n",
            "Epoch 81/100\n",
            "3323/3323 [==============================] - 0s 37us/step - loss: 1.2063e-07 - acc: 1.0000 - val_loss: 1.3306e-07 - val_acc: 1.0000\n",
            "Epoch 82/100\n",
            "3323/3323 [==============================] - 0s 38us/step - loss: 1.2034e-07 - acc: 1.0000 - val_loss: 1.3258e-07 - val_acc: 1.0000\n",
            "Epoch 83/100\n",
            "3323/3323 [==============================] - 0s 38us/step - loss: 1.2032e-07 - acc: 1.0000 - val_loss: 1.3210e-07 - val_acc: 1.0000\n",
            "Epoch 84/100\n",
            "3323/3323 [==============================] - 0s 38us/step - loss: 1.2016e-07 - acc: 1.0000 - val_loss: 1.3145e-07 - val_acc: 1.0000\n",
            "Epoch 85/100\n",
            "3323/3323 [==============================] - 0s 38us/step - loss: 1.2003e-07 - acc: 1.0000 - val_loss: 1.3081e-07 - val_acc: 1.0000\n",
            "Epoch 86/100\n",
            "3323/3323 [==============================] - 0s 37us/step - loss: 1.1996e-07 - acc: 1.0000 - val_loss: 1.2920e-07 - val_acc: 1.0000\n",
            "Epoch 87/100\n",
            "3323/3323 [==============================] - 0s 38us/step - loss: 1.1987e-07 - acc: 1.0000 - val_loss: 1.2920e-07 - val_acc: 1.0000\n",
            "Epoch 88/100\n",
            "3323/3323 [==============================] - 0s 39us/step - loss: 1.1975e-07 - acc: 1.0000 - val_loss: 1.2855e-07 - val_acc: 1.0000\n",
            "Epoch 89/100\n",
            "3323/3323 [==============================] - 0s 38us/step - loss: 1.1969e-07 - acc: 1.0000 - val_loss: 1.2791e-07 - val_acc: 1.0000\n",
            "Epoch 90/100\n",
            "3323/3323 [==============================] - 0s 38us/step - loss: 1.1955e-07 - acc: 1.0000 - val_loss: 1.2726e-07 - val_acc: 1.0000\n",
            "Epoch 91/100\n",
            "3323/3323 [==============================] - 0s 40us/step - loss: 1.1962e-07 - acc: 1.0000 - val_loss: 1.2662e-07 - val_acc: 1.0000\n",
            "Epoch 92/100\n",
            "3323/3323 [==============================] - 0s 38us/step - loss: 1.1957e-07 - acc: 1.0000 - val_loss: 1.2743e-07 - val_acc: 1.0000\n",
            "Epoch 93/100\n",
            "3323/3323 [==============================] - 0s 37us/step - loss: 1.1953e-07 - acc: 1.0000 - val_loss: 1.2598e-07 - val_acc: 1.0000\n",
            "Epoch 94/100\n",
            "3323/3323 [==============================] - 0s 37us/step - loss: 1.1944e-07 - acc: 1.0000 - val_loss: 1.2565e-07 - val_acc: 1.0000\n",
            "Epoch 95/100\n",
            "3323/3323 [==============================] - 0s 39us/step - loss: 1.1946e-07 - acc: 1.0000 - val_loss: 1.2533e-07 - val_acc: 1.0000\n",
            "Epoch 96/100\n",
            "3323/3323 [==============================] - 0s 38us/step - loss: 1.1944e-07 - acc: 1.0000 - val_loss: 1.2533e-07 - val_acc: 1.0000\n",
            "Epoch 97/100\n",
            "3323/3323 [==============================] - 0s 38us/step - loss: 1.1935e-07 - acc: 1.0000 - val_loss: 1.2485e-07 - val_acc: 1.0000\n",
            "Epoch 98/100\n",
            "3323/3323 [==============================] - 0s 38us/step - loss: 1.1937e-07 - acc: 1.0000 - val_loss: 1.2501e-07 - val_acc: 1.0000\n",
            "Epoch 99/100\n",
            "3323/3323 [==============================] - 0s 41us/step - loss: 1.1939e-07 - acc: 1.0000 - val_loss: 1.2436e-07 - val_acc: 1.0000\n",
            "Epoch 100/100\n",
            "3323/3323 [==============================] - 0s 39us/step - loss: 1.1937e-07 - acc: 1.0000 - val_loss: 1.2404e-07 - val_acc: 1.0000\n"
          ],
          "name": "stdout"
        }
      ]
    },
    {
      "cell_type": "code",
      "metadata": {
        "id": "xVuXFVCh7S7A",
        "colab_type": "code",
        "colab": {
          "base_uri": "https://localhost:8080/",
          "height": 286
        },
        "outputId": "fb2748c2-49c9-4083-a2be-e9f248625292"
      },
      "source": [
        "plt.plot(m.history['loss'])\n",
        "plt.plot(m.history['val_loss'])"
      ],
      "execution_count": 73,
      "outputs": [
        {
          "output_type": "execute_result",
          "data": {
            "text/plain": [
              "[<matplotlib.lines.Line2D at 0x7ffb0ce1ff28>]"
            ]
          },
          "metadata": {
            "tags": []
          },
          "execution_count": 73
        },
        {
          "output_type": "display_data",
          "data": {
            "image/png": "[encoded data removed]",
            "text/plain": [
              "<Figure size 432x288 with 1 Axes>"
            ]
          },
          "metadata": {
            "tags": []
          }
        }
      ]
    },
    {
      "cell_type": "code",
      "metadata": {
        "id": "W7Tua6Kd7sHg",
        "colab_type": "code",
        "colab": {
          "base_uri": "https://localhost:8080/",
          "height": 286
        },
        "outputId": "9b015996-f6aa-4f2e-b939-620719b59f2e"
      },
      "source": [
        "\n",
        "plt.plot(m.history['acc'])\n",
        "plt.plot(m.history['val_acc'])"
      ],
      "execution_count": 74,
      "outputs": [
        {
          "output_type": "execute_result",
          "data": {
            "text/plain": [
              "[<matplotlib.lines.Line2D at 0x7ffb07d15320>]"
            ]
          },
          "metadata": {
            "tags": []
          },
          "execution_count": 74
        },
        {
          "output_type": "display_data",
          "data": {
            "image/png": "[encoded data removed]",
            "text/plain": [
              "<Figure size 432x288 with 1 Axes>"
            ]
          },
          "metadata": {
            "tags": []
          }
        }
      ]
    },
    {
      "cell_type": "code",
      "metadata": {
        "id": "8GRq5wnO7u3S",
        "colab_type": "code",
        "colab": {
          "base_uri": "https://localhost:8080/",
          "height": 34
        },
        "outputId": "114532d8-28a4-4c65-ce6e-b09209063250"
      },
      "source": [
        "score= clf.evaluate(X_test, y_test)\n"
      ],
      "execution_count": 75,
      "outputs": [
        {
          "output_type": "stream",
          "text": [
            "924/924 [==============================] - 0s 28us/step\n"
          ],
          "name": "stdout"
        }
      ]
    },
    {
      "cell_type": "code",
      "metadata": {
        "id": "5eInHWMf70EC",
        "colab_type": "code",
        "colab": {
          "base_uri": "https://localhost:8080/",
          "height": 34
        },
        "outputId": "f1ef956a-3a1c-43f6-c4c8-9a48b55323a4"
      },
      "source": [
        "score"
      ],
      "execution_count": 76,
      "outputs": [
        {
          "output_type": "execute_result",
          "data": {
            "text/plain": [
              "[1.2088652063399714e-07, 1.0]"
            ]
          },
          "metadata": {
            "tags": []
          },
          "execution_count": 76
        }
      ]
    },
    {
      "cell_type": "code",
      "metadata": {
        "id": "ISlJ6Zx272p_",
        "colab_type": "code",
        "colab": {
          "base_uri": "https://localhost:8080/",
          "height": 34
        },
        "outputId": "be8aaba2-bc95-4bed-af2a-0540e01f8ebb"
      },
      "source": [
        "sum(y_train == 0)\n"
      ],
      "execution_count": 77,
      "outputs": [
        {
          "output_type": "execute_result",
          "data": {
            "text/plain": [
              "0"
            ]
          },
          "metadata": {
            "tags": []
          },
          "execution_count": 77
        }
      ]
    },
    {
      "cell_type": "code",
      "metadata": {
        "id": "jw8KHaYY76x0",
        "colab_type": "code",
        "colab": {
          "base_uri": "https://localhost:8080/",
          "height": 34
        },
        "outputId": "c4bf365b-d581-41d2-9d82-0c4f3cfba768"
      },
      "source": [
        "sum(y_test == 1)\n"
      ],
      "execution_count": 78,
      "outputs": [
        {
          "output_type": "execute_result",
          "data": {
            "text/plain": [
              "0"
            ]
          },
          "metadata": {
            "tags": []
          },
          "execution_count": 78
        }
      ]
    },
    {
      "cell_type": "code",
      "metadata": {
        "id": "e-Y28BMx79qN",
        "colab_type": "code",
        "colab": {}
      },
      "source": [
        ""
      ],
      "execution_count": 0,
      "outputs": []
    }
  ]
}