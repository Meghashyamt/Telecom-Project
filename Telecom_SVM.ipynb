{
  "nbformat": 4,
  "nbformat_minor": 0,
  "metadata": {
    "colab": {
      "name": "Telecom SVM.ipynb",
      "version": "0.3.2",
      "provenance": [],
      "collapsed_sections": [],
      "include_colab_link": true
    },
    "kernelspec": {
      "name": "python3",
      "display_name": "Python 3"
    },
    "accelerator": "GPU"
  },
  "cells": [
    {
      "cell_type": "markdown",
      "metadata": {
        "id": "view-in-github",
        "colab_type": "text"
      },
      "source": [
        "<a href=\"https://colab.research.google.com/github/Meghashyamt/Telecom-Project/blob/master/Telecom_SVM.ipynb\" target=\"_parent\"><img src=\"https://colab.research.google.com/assets/colab-badge.svg\" alt=\"Open In Colab\"/></a>"
      ]
    },
    {
      "cell_type": "markdown",
      "metadata": {
        "id": "n4qiFNdZtIEa",
        "colab_type": "text"
      },
      "source": [
        "# SVM(Support Vector Machine)"
      ]
    },
    {
      "cell_type": "code",
      "metadata": {
        "id": "yQShotPGtSSa",
        "colab_type": "code",
        "colab": {}
      },
      "source": [
        "# import librarires \n",
        "import numpy as np\n",
        "import pandas as pd\n",
        "\n",
        "#import data visuvalize\n",
        "import matplotlib.pyplot as plt\n",
        "import seaborn as sb\n",
        "%matplotlib inline\n",
        "\n",
        "\n",
        "#import train test\n",
        "from sklearn.model_selection import train_test_split\n",
        "from sklearn.svm import SVC\n",
        "\n",
        "#import metrics\n",
        "from sklearn.metrics import r2_score, accuracy_score, confusion_matrix, classification_report\n",
        "from sklearn import metrics\n",
        "from scipy import stats"
      ],
      "execution_count": 0,
      "outputs": []
    },
    {
      "cell_type": "code",
      "metadata": {
        "id": "kZInUmhE1_17",
        "colab_type": "code",
        "colab": {}
      },
      "source": [
        "!git clone https://github.com/Meghashyamt/Telecom-Project"
      ],
      "execution_count": 0,
      "outputs": []
    },
    {
      "cell_type": "code",
      "metadata": {
        "id": "wcMrso-BtTc-",
        "colab_type": "code",
        "outputId": "165699a2-7acc-4fd1-8a83-f447e2b1078d",
        "colab": {
          "base_uri": "https://localhost:8080/",
          "height": 182
        }
      },
      "source": [
        "#import data\n",
        "data=pd.read_csv(\"Telecom-Project/telecom_churn_data.csv\")\n",
        "data.head(2)"
      ],
      "execution_count": 0,
      "outputs": [
        {
          "output_type": "execute_result",
          "data": {
            "text/html": [
              "<div>\n",
              "<style scoped>\n",
              "    .dataframe tbody tr th:only-of-type {\n",
              "        vertical-align: middle;\n",
              "    }\n",
              "\n",
              "    .dataframe tbody tr th {\n",
              "        vertical-align: top;\n",
              "    }\n",
              "\n",
              "    .dataframe thead th {\n",
              "        text-align: right;\n",
              "    }\n",
              "</style>\n",
              "<table border=\"1\" class=\"dataframe\">\n",
              "  <thead>\n",
              "    <tr style=\"text-align: right;\">\n",
              "      <th></th>\n",
              "      <th>State</th>\n",
              "      <th>Account Length</th>\n",
              "      <th>Area code</th>\n",
              "      <th>Phone</th>\n",
              "      <th>International Plan</th>\n",
              "      <th>Vmail plan</th>\n",
              "      <th>Vmail Message</th>\n",
              "      <th>Day mins</th>\n",
              "      <th>Day calls</th>\n",
              "      <th>Day charge</th>\n",
              "      <th>Eve mins</th>\n",
              "      <th>Eve calls</th>\n",
              "      <th>Eve charge</th>\n",
              "      <th>Night mins</th>\n",
              "      <th>Night calls</th>\n",
              "      <th>Night charge</th>\n",
              "      <th>International mins</th>\n",
              "      <th>International calls</th>\n",
              "      <th>International charge</th>\n",
              "      <th>Custserve calls</th>\n",
              "      <th>Churn</th>\n",
              "    </tr>\n",
              "  </thead>\n",
              "  <tbody>\n",
              "    <tr>\n",
              "      <th>0</th>\n",
              "      <td>KS</td>\n",
              "      <td>128</td>\n",
              "      <td>415</td>\n",
              "      <td>382-4657</td>\n",
              "      <td>no</td>\n",
              "      <td>yes</td>\n",
              "      <td>25</td>\n",
              "      <td>265.1</td>\n",
              "      <td>110</td>\n",
              "      <td>45.07</td>\n",
              "      <td>197.4</td>\n",
              "      <td>99</td>\n",
              "      <td>16.78</td>\n",
              "      <td>244.7</td>\n",
              "      <td>91</td>\n",
              "      <td>11.01</td>\n",
              "      <td>10.0</td>\n",
              "      <td>3</td>\n",
              "      <td>2.7</td>\n",
              "      <td>1</td>\n",
              "      <td>0</td>\n",
              "    </tr>\n",
              "    <tr>\n",
              "      <th>1</th>\n",
              "      <td>OH</td>\n",
              "      <td>107</td>\n",
              "      <td>415</td>\n",
              "      <td>371-7191</td>\n",
              "      <td>no</td>\n",
              "      <td>yes</td>\n",
              "      <td>26</td>\n",
              "      <td>161.6</td>\n",
              "      <td>123</td>\n",
              "      <td>27.47</td>\n",
              "      <td>195.5</td>\n",
              "      <td>103</td>\n",
              "      <td>16.62</td>\n",
              "      <td>254.4</td>\n",
              "      <td>103</td>\n",
              "      <td>11.45</td>\n",
              "      <td>13.7</td>\n",
              "      <td>3</td>\n",
              "      <td>3.7</td>\n",
              "      <td>1</td>\n",
              "      <td>0</td>\n",
              "    </tr>\n",
              "  </tbody>\n",
              "</table>\n",
              "</div>"
            ],
            "text/plain": [
              "  State  Account Length  ...  Custserve calls  Churn\n",
              "0    KS             128  ...                 1     0\n",
              "1    OH             107  ...                 1     0\n",
              "\n",
              "[2 rows x 21 columns]"
            ]
          },
          "metadata": {
            "tags": []
          },
          "execution_count": 30
        }
      ]
    },
    {
      "cell_type": "code",
      "metadata": {
        "id": "AzA2bYoZtlPM",
        "colab_type": "code",
        "outputId": "8a6875bc-1541-467a-c7b2-38f246d82231",
        "colab": {
          "base_uri": "https://localhost:8080/",
          "height": 459
        }
      },
      "source": [
        "data.info()"
      ],
      "execution_count": 0,
      "outputs": [
        {
          "output_type": "stream",
          "text": [
            "<class 'pandas.core.frame.DataFrame'>\n",
            "RangeIndex: 4617 entries, 0 to 4616\n",
            "Data columns (total 21 columns):\n",
            "State                   4617 non-null object\n",
            "Account Length          4617 non-null int64\n",
            "Area code               4617 non-null int64\n",
            "Phone                   4617 non-null object\n",
            "International Plan      4617 non-null object\n",
            "Vmail plan              4617 non-null object\n",
            "Vmail Message           4617 non-null int64\n",
            "Day mins                4617 non-null float64\n",
            "Day calls               4617 non-null int64\n",
            "Day charge              4617 non-null float64\n",
            "Eve mins                4617 non-null float64\n",
            "Eve calls               4617 non-null int64\n",
            "Eve charge              4617 non-null float64\n",
            "Night mins              4617 non-null float64\n",
            "Night calls             4617 non-null int64\n",
            "Night charge            4617 non-null float64\n",
            "International mins      4617 non-null float64\n",
            "International calls     4617 non-null int64\n",
            "International charge    4617 non-null float64\n",
            "Custserve calls         4617 non-null int64\n",
            "Churn                   4617 non-null int64\n",
            "dtypes: float64(8), int64(9), object(4)\n",
            "memory usage: 757.6+ KB\n"
          ],
          "name": "stdout"
        }
      ]
    },
    {
      "cell_type": "code",
      "metadata": {
        "id": "RNdvwc73tP8-",
        "colab_type": "code",
        "colab": {}
      },
      "source": [
        "#Adding new column and changing to binary\n",
        "data['Churn-Flag']=(data['Churn']== True).astype(int)"
      ],
      "execution_count": 0,
      "outputs": []
    },
    {
      "cell_type": "code",
      "metadata": {
        "id": "MJEX5SkQt1bA",
        "colab_type": "code",
        "colab": {}
      },
      "source": [
        "#slicing X and y\n",
        "X=data.iloc[:,6:19]\n",
        "y=data.iloc[:,21]"
      ],
      "execution_count": 0,
      "outputs": []
    },
    {
      "cell_type": "code",
      "metadata": {
        "id": "HgVjYt1QukFR",
        "colab_type": "code",
        "colab": {}
      },
      "source": [
        "#train and test\n",
        "X_train,X_test,y_train,y_test=train_test_split(X,y, test_size=0.2, random_state=10)"
      ],
      "execution_count": 0,
      "outputs": []
    },
    {
      "cell_type": "code",
      "metadata": {
        "id": "ppt2iePluquz",
        "colab_type": "code",
        "colab": {}
      },
      "source": [
        "#SVM Model\n",
        "model=SVC()"
      ],
      "execution_count": 0,
      "outputs": []
    },
    {
      "cell_type": "code",
      "metadata": {
        "id": "6tyzgZ8su-_L",
        "colab_type": "code",
        "outputId": "6e5174e6-f73f-419e-8fd1-a3111ef682bc",
        "colab": {
          "base_uri": "https://localhost:8080/",
          "height": 139
        }
      },
      "source": [
        "model.fit(X_train,y_train)"
      ],
      "execution_count": 0,
      "outputs": [
        {
          "output_type": "stream",
          "text": [
            "/usr/local/lib/python3.6/dist-packages/sklearn/svm/base.py:193: FutureWarning: The default value of gamma will change from 'auto' to 'scale' in version 0.22 to account better for unscaled features. Set gamma explicitly to 'auto' or 'scale' to avoid this warning.\n",
            "  \"avoid this warning.\", FutureWarning)\n"
          ],
          "name": "stderr"
        },
        {
          "output_type": "execute_result",
          "data": {
            "text/plain": [
              "SVC(C=1.0, cache_size=200, class_weight=None, coef0=0.0,\n",
              "    decision_function_shape='ovr', degree=3, gamma='auto_deprecated',\n",
              "    kernel='rbf', max_iter=-1, probability=False, random_state=None,\n",
              "    shrinking=True, tol=0.001, verbose=False)"
            ]
          },
          "metadata": {
            "tags": []
          },
          "execution_count": 36
        }
      ]
    },
    {
      "cell_type": "code",
      "metadata": {
        "id": "mX4ajOTPvDPO",
        "colab_type": "code",
        "colab": {}
      },
      "source": [
        "predict =model.predict(X_test)"
      ],
      "execution_count": 0,
      "outputs": []
    },
    {
      "cell_type": "code",
      "metadata": {
        "id": "Uzj9JApDvFlr",
        "colab_type": "code",
        "outputId": "2c3d156f-2b18-4d20-b88d-1639ef1c7a40",
        "colab": {
          "base_uri": "https://localhost:8080/",
          "height": 34
        }
      },
      "source": [
        "accuracy_score(y_test, predict)"
      ],
      "execution_count": 0,
      "outputs": [
        {
          "output_type": "execute_result",
          "data": {
            "text/plain": [
              "0.8647186147186147"
            ]
          },
          "metadata": {
            "tags": []
          },
          "execution_count": 38
        }
      ]
    },
    {
      "cell_type": "code",
      "metadata": {
        "id": "Mcv4AemEvK8V",
        "colab_type": "code",
        "outputId": "4176c67a-1a2d-48b4-82f3-f365ccb63603",
        "colab": {
          "base_uri": "https://localhost:8080/",
          "height": 292
        }
      },
      "source": [
        "print(classification_report(y_test, predict))"
      ],
      "execution_count": 0,
      "outputs": [
        {
          "output_type": "stream",
          "text": [
            "              precision    recall  f1-score   support\n",
            "\n",
            "           0       0.86      1.00      0.93       799\n",
            "           1       0.00      0.00      0.00       125\n",
            "\n",
            "    accuracy                           0.86       924\n",
            "   macro avg       0.43      0.50      0.46       924\n",
            "weighted avg       0.75      0.86      0.80       924\n",
            "\n"
          ],
          "name": "stdout"
        },
        {
          "output_type": "stream",
          "text": [
            "/usr/local/lib/python3.6/dist-packages/sklearn/metrics/classification.py:1437: UndefinedMetricWarning: Precision and F-score are ill-defined and being set to 0.0 in labels with no predicted samples.\n",
            "  'precision', 'predicted', average, warn_for)\n",
            "/usr/local/lib/python3.6/dist-packages/sklearn/metrics/classification.py:1437: UndefinedMetricWarning: Precision and F-score are ill-defined and being set to 0.0 in labels with no predicted samples.\n",
            "  'precision', 'predicted', average, warn_for)\n",
            "/usr/local/lib/python3.6/dist-packages/sklearn/metrics/classification.py:1437: UndefinedMetricWarning: Precision and F-score are ill-defined and being set to 0.0 in labels with no predicted samples.\n",
            "  'precision', 'predicted', average, warn_for)\n"
          ],
          "name": "stderr"
        }
      ]
    },
    {
      "cell_type": "code",
      "metadata": {
        "id": "PUal3aNxvOZh",
        "colab_type": "code",
        "colab": {}
      },
      "source": [
        "from sklearn.model_selection import GridSearchCV"
      ],
      "execution_count": 0,
      "outputs": []
    },
    {
      "cell_type": "code",
      "metadata": {
        "id": "fr0zAucOvRd1",
        "colab_type": "code",
        "colab": {}
      },
      "source": [
        "#Grid Search  to find the value from kernel , c , gamma\n",
        "parameters=[{'kernel':['linear'], 'C':[1,10,100,1000,10000]},\n",
        "           {'kernel':['rbf'],'gamma':[0.5, 0.1, 0.05,0.07,0.08], 'C':[1,10,100,1000,10000]}]"
      ],
      "execution_count": 0,
      "outputs": []
    },
    {
      "cell_type": "code",
      "metadata": {
        "id": "JWnKVcLFvUEo",
        "colab_type": "code",
        "outputId": "953d0cd2-591e-4275-d4f1-88922aef105c",
        "colab": {
          "base_uri": "https://localhost:8080/",
          "height": 71
        }
      },
      "source": [
        "grid_model_svc= GridSearchCV(SVC(), parameters)\n",
        "grid_model_svc.fit(X_train, y_train)\n",
        "grid_model_svc.best_score_"
      ],
      "execution_count": 0,
      "outputs": [
        {
          "output_type": "stream",
          "text": [
            "/usr/local/lib/python3.6/dist-packages/sklearn/model_selection/_split.py:1978: FutureWarning: The default value of cv will change from 3 to 5 in version 0.22. Specify it explicitly to silence this warning.\n",
            "  warnings.warn(CV_WARNING, FutureWarning)\n"
          ],
          "name": "stderr"
        }
      ]
    },
    {
      "cell_type": "code",
      "metadata": {
        "id": "Eeljd_1PPy_V",
        "colab_type": "code",
        "colab": {}
      },
      "source": [
        "grid_model_svc.best_score_"
      ],
      "execution_count": 0,
      "outputs": []
    }
  ]
}