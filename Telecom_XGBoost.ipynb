{
  "nbformat": 4,
  "nbformat_minor": 0,
  "metadata": {
    "colab": {
      "name": "Telecom XGBoost.ipynb",
      "version": "0.3.2",
      "provenance": [],
      "collapsed_sections": [],
      "include_colab_link": true
    },
    "kernelspec": {
      "name": "python3",
      "display_name": "Python 3"
    }
  },
  "cells": [
    {
      "cell_type": "markdown",
      "metadata": {
        "id": "view-in-github",
        "colab_type": "text"
      },
      "source": [
        "<a href=\"https://colab.research.google.com/github/Meghashyamt/Telecom-Project/blob/master/Telecom_XGBoost.ipynb\" target=\"_parent\"><img src=\"https://colab.research.google.com/assets/colab-badge.svg\" alt=\"Open In Colab\"/></a>"
      ]
    },
    {
      "cell_type": "markdown",
      "metadata": {
        "id": "RzmafN7Axnee",
        "colab_type": "text"
      },
      "source": [
        "# XGBoost Classifier\n"
      ]
    },
    {
      "cell_type": "code",
      "metadata": {
        "id": "Lrc1wVVPxsJf",
        "colab_type": "code",
        "colab": {}
      },
      "source": [
        "#Import Libraries\n",
        "import numpy as np\n",
        "import pandas as pd\n",
        "\n",
        "from xgboost import XGBClassifier\n",
        "from sklearn.model_selection import train_test_split\n",
        "\n",
        "from sklearn.metrics import accuracy_score, classification_report, confusion_matrix\n",
        "from sklearn.preprocessing import scale"
      ],
      "execution_count": 0,
      "outputs": []
    },
    {
      "cell_type": "code",
      "metadata": {
        "id": "SmgcgOVo1lMM",
        "colab_type": "code",
        "colab": {}
      },
      "source": [
        "!git clone https://github.com/Meghashyamt/Telecom-Project"
      ],
      "execution_count": 0,
      "outputs": []
    },
    {
      "cell_type": "code",
      "metadata": {
        "id": "5j1KTSjYx0Bs",
        "colab_type": "code",
        "outputId": "8ffb88d5-8bce-4aa2-aa12-951ae2850540",
        "colab": {
          "base_uri": "https://localhost:8080/",
          "height": 182
        }
      },
      "source": [
        "#Import data\n",
        "data = pd.read_csv(\"Telecom-Project/telecom_churn_data.csv\")\n",
        "data.head(2)"
      ],
      "execution_count": 0,
      "outputs": [
        {
          "output_type": "execute_result",
          "data": {
            "text/html": [
              "<div>\n",
              "<style scoped>\n",
              "    .dataframe tbody tr th:only-of-type {\n",
              "        vertical-align: middle;\n",
              "    }\n",
              "\n",
              "    .dataframe tbody tr th {\n",
              "        vertical-align: top;\n",
              "    }\n",
              "\n",
              "    .dataframe thead th {\n",
              "        text-align: right;\n",
              "    }\n",
              "</style>\n",
              "<table border=\"1\" class=\"dataframe\">\n",
              "  <thead>\n",
              "    <tr style=\"text-align: right;\">\n",
              "      <th></th>\n",
              "      <th>State</th>\n",
              "      <th>Account Length</th>\n",
              "      <th>Area code</th>\n",
              "      <th>Phone</th>\n",
              "      <th>International Plan</th>\n",
              "      <th>Vmail plan</th>\n",
              "      <th>Vmail Message</th>\n",
              "      <th>Day mins</th>\n",
              "      <th>Day calls</th>\n",
              "      <th>Day charge</th>\n",
              "      <th>Eve mins</th>\n",
              "      <th>Eve calls</th>\n",
              "      <th>Eve charge</th>\n",
              "      <th>Night mins</th>\n",
              "      <th>Night calls</th>\n",
              "      <th>Night charge</th>\n",
              "      <th>International mins</th>\n",
              "      <th>International calls</th>\n",
              "      <th>International charge</th>\n",
              "      <th>Custserve calls</th>\n",
              "      <th>Churn</th>\n",
              "    </tr>\n",
              "  </thead>\n",
              "  <tbody>\n",
              "    <tr>\n",
              "      <th>0</th>\n",
              "      <td>KS</td>\n",
              "      <td>128</td>\n",
              "      <td>415</td>\n",
              "      <td>382-4657</td>\n",
              "      <td>no</td>\n",
              "      <td>yes</td>\n",
              "      <td>25</td>\n",
              "      <td>265.1</td>\n",
              "      <td>110</td>\n",
              "      <td>45.07</td>\n",
              "      <td>197.4</td>\n",
              "      <td>99</td>\n",
              "      <td>16.78</td>\n",
              "      <td>244.7</td>\n",
              "      <td>91</td>\n",
              "      <td>11.01</td>\n",
              "      <td>10.0</td>\n",
              "      <td>3</td>\n",
              "      <td>2.7</td>\n",
              "      <td>1</td>\n",
              "      <td>0</td>\n",
              "    </tr>\n",
              "    <tr>\n",
              "      <th>1</th>\n",
              "      <td>OH</td>\n",
              "      <td>107</td>\n",
              "      <td>415</td>\n",
              "      <td>371-7191</td>\n",
              "      <td>no</td>\n",
              "      <td>yes</td>\n",
              "      <td>26</td>\n",
              "      <td>161.6</td>\n",
              "      <td>123</td>\n",
              "      <td>27.47</td>\n",
              "      <td>195.5</td>\n",
              "      <td>103</td>\n",
              "      <td>16.62</td>\n",
              "      <td>254.4</td>\n",
              "      <td>103</td>\n",
              "      <td>11.45</td>\n",
              "      <td>13.7</td>\n",
              "      <td>3</td>\n",
              "      <td>3.7</td>\n",
              "      <td>1</td>\n",
              "      <td>0</td>\n",
              "    </tr>\n",
              "  </tbody>\n",
              "</table>\n",
              "</div>"
            ],
            "text/plain": [
              "  State  Account Length  ...  Custserve calls  Churn\n",
              "0    KS             128  ...                 1     0\n",
              "1    OH             107  ...                 1     0\n",
              "\n",
              "[2 rows x 21 columns]"
            ]
          },
          "metadata": {
            "tags": []
          },
          "execution_count": 4
        }
      ]
    },
    {
      "cell_type": "code",
      "metadata": {
        "id": "56HETaB6x68E",
        "colab_type": "code",
        "outputId": "19a29045-8d54-4f08-edb2-737be874fba8",
        "colab": {
          "base_uri": "https://localhost:8080/",
          "height": 459
        }
      },
      "source": [
        "#Infomration about data\n",
        "data.info()"
      ],
      "execution_count": 0,
      "outputs": [
        {
          "output_type": "stream",
          "text": [
            "<class 'pandas.core.frame.DataFrame'>\n",
            "RangeIndex: 4617 entries, 0 to 4616\n",
            "Data columns (total 21 columns):\n",
            "State                   4617 non-null object\n",
            "Account Length          4617 non-null int64\n",
            "Area code               4617 non-null int64\n",
            "Phone                   4617 non-null object\n",
            "International Plan      4617 non-null object\n",
            "Vmail plan              4617 non-null object\n",
            "Vmail Message           4617 non-null int64\n",
            "Day mins                4617 non-null float64\n",
            "Day calls               4617 non-null int64\n",
            "Day charge              4617 non-null float64\n",
            "Eve mins                4617 non-null float64\n",
            "Eve calls               4617 non-null int64\n",
            "Eve charge              4617 non-null float64\n",
            "Night mins              4617 non-null float64\n",
            "Night calls             4617 non-null int64\n",
            "Night charge            4617 non-null float64\n",
            "International mins      4617 non-null float64\n",
            "International calls     4617 non-null int64\n",
            "International charge    4617 non-null float64\n",
            "Custserve calls         4617 non-null int64\n",
            "Churn                   4617 non-null int64\n",
            "dtypes: float64(8), int64(9), object(4)\n",
            "memory usage: 757.6+ KB\n"
          ],
          "name": "stdout"
        }
      ]
    },
    {
      "cell_type": "code",
      "metadata": {
        "id": "mIVl3thdySL1",
        "colab_type": "code",
        "colab": {}
      },
      "source": [
        "#Adding new column and changing to binary\n",
        "data['Churn-Flag']=(data['Churn']== True).astype(int)"
      ],
      "execution_count": 0,
      "outputs": []
    },
    {
      "cell_type": "code",
      "metadata": {
        "id": "T4KqqVz-yI3p",
        "colab_type": "code",
        "colab": {}
      },
      "source": [
        "#slicing X and y\n",
        "X=data.iloc[:,6:19]\n",
        "y=data.iloc[:,21]"
      ],
      "execution_count": 0,
      "outputs": []
    },
    {
      "cell_type": "code",
      "metadata": {
        "id": "3tpIrUQuyXtI",
        "colab_type": "code",
        "colab": {}
      },
      "source": [
        "X_train,X_test,y_train,y_test=train_test_split(X,y, test_size=0.2, random_state=10)"
      ],
      "execution_count": 0,
      "outputs": []
    },
    {
      "cell_type": "code",
      "metadata": {
        "id": "9COODG9MyiAe",
        "colab_type": "code",
        "colab": {}
      },
      "source": [
        "model = XGBClassifier()"
      ],
      "execution_count": 0,
      "outputs": []
    },
    {
      "cell_type": "code",
      "metadata": {
        "id": "MMg_7ti4yspX",
        "colab_type": "code",
        "outputId": "3a8ae38d-25eb-43a4-d18a-f3e11ac2ca08",
        "colab": {
          "base_uri": "https://localhost:8080/",
          "height": 136
        }
      },
      "source": [
        "model.fit(X_train, y_train)"
      ],
      "execution_count": 0,
      "outputs": [
        {
          "output_type": "execute_result",
          "data": {
            "text/plain": [
              "XGBClassifier(base_score=0.5, booster='gbtree', colsample_bylevel=1,\n",
              "              colsample_bynode=1, colsample_bytree=1, gamma=0,\n",
              "              learning_rate=0.1, max_delta_step=0, max_depth=3,\n",
              "              min_child_weight=1, missing=None, n_estimators=100, n_jobs=1,\n",
              "              nthread=None, objective='binary:logistic', random_state=0,\n",
              "              reg_alpha=0, reg_lambda=1, scale_pos_weight=1, seed=None,\n",
              "              silent=None, subsample=1, verbosity=1)"
            ]
          },
          "metadata": {
            "tags": []
          },
          "execution_count": 11
        }
      ]
    },
    {
      "cell_type": "code",
      "metadata": {
        "id": "1kfttluyyv3V",
        "colab_type": "code",
        "colab": {}
      },
      "source": [
        "predict= model.predict(X_test)"
      ],
      "execution_count": 0,
      "outputs": []
    },
    {
      "cell_type": "code",
      "metadata": {
        "id": "BSDcGo52y0Kd",
        "colab_type": "code",
        "outputId": "e1ba1cb0-4b74-440d-d53b-3fa32ff8cb27",
        "colab": {
          "base_uri": "https://localhost:8080/",
          "height": 34
        }
      },
      "source": [
        "accuracy_score(y_test, predict)"
      ],
      "execution_count": 0,
      "outputs": [
        {
          "output_type": "execute_result",
          "data": {
            "text/plain": [
              "0.9112554112554112"
            ]
          },
          "metadata": {
            "tags": []
          },
          "execution_count": 13
        }
      ]
    },
    {
      "cell_type": "code",
      "metadata": {
        "id": "Y4zpaYIcy3H4",
        "colab_type": "code",
        "outputId": "81f9907d-f5ac-47fe-830e-334cd5ee0953",
        "colab": {
          "base_uri": "https://localhost:8080/",
          "height": 51
        }
      },
      "source": [
        "confusion_matrix(y_test, predict)"
      ],
      "execution_count": 0,
      "outputs": [
        {
          "output_type": "execute_result",
          "data": {
            "text/plain": [
              "array([[796,   3],\n",
              "       [ 79,  46]])"
            ]
          },
          "metadata": {
            "tags": []
          },
          "execution_count": 14
        }
      ]
    },
    {
      "cell_type": "code",
      "metadata": {
        "id": "5ZnCJ4uwy55K",
        "colab_type": "code",
        "outputId": "eb65710e-5536-4c05-8bb8-36819b9636f1",
        "colab": {
          "base_uri": "https://localhost:8080/",
          "height": 170
        }
      },
      "source": [
        "print(classification_report(y_test, predict))"
      ],
      "execution_count": 0,
      "outputs": [
        {
          "output_type": "stream",
          "text": [
            "              precision    recall  f1-score   support\n",
            "\n",
            "           0       0.91      1.00      0.95       799\n",
            "           1       0.94      0.37      0.53       125\n",
            "\n",
            "    accuracy                           0.91       924\n",
            "   macro avg       0.92      0.68      0.74       924\n",
            "weighted avg       0.91      0.91      0.89       924\n",
            "\n"
          ],
          "name": "stdout"
        }
      ]
    },
    {
      "cell_type": "code",
      "metadata": {
        "id": "uDZnYAt1y9Jl",
        "colab_type": "code",
        "colab": {}
      },
      "source": [
        ""
      ],
      "execution_count": 0,
      "outputs": []
    },
    {
      "cell_type": "code",
      "metadata": {
        "id": "m-7Tg7DlxtDQ",
        "colab_type": "code",
        "colab": {}
      },
      "source": [
        ""
      ],
      "execution_count": 0,
      "outputs": []
    }
  ]
}